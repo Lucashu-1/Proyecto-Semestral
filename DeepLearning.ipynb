{
 "cells": [
  {
   "cell_type": "code",
   "execution_count": 1,
   "metadata": {},
   "outputs": [
    {
     "name": "stdout",
     "output_type": "stream",
     "text": [
      "WARNING:tensorflow:From C:\\Users\\herna\\AppData\\Local\\Packages\\PythonSoftwareFoundation.Python.3.11_qbz5n2kfra8p0\\LocalCache\\local-packages\\Python311\\site-packages\\keras\\src\\losses.py:2976: The name tf.losses.sparse_softmax_cross_entropy is deprecated. Please use tf.compat.v1.losses.sparse_softmax_cross_entropy instead.\n",
      "\n"
     ]
    }
   ],
   "source": [
    "import pandas as pd\n",
    "from sklearn.model_selection import train_test_split\n",
    "from sklearn.model_selection import cross_val_score\n",
    "from sklearn.preprocessing import StandardScaler\n",
    "import tensorflow as tf\n",
    "from keras.models import Sequential\n",
    "from keras.layers import Dense, Dropout \n",
    "import matplotlib.pyplot as plt"
   ]
  },
  {
   "cell_type": "code",
   "execution_count": 2,
   "metadata": {},
   "outputs": [
    {
     "name": "stderr",
     "output_type": "stream",
     "text": [
      "C:\\Users\\herna\\AppData\\Local\\Temp\\ipykernel_16132\\2231276672.py:1: DtypeWarning: Columns (25,108) have mixed types. Specify dtype option on import or set low_memory=False.\n",
      "  fifa = pd.read_csv('./players_22.csv')\n"
     ]
    }
   ],
   "source": [
    "fifa = pd.read_csv('./players_22.csv')"
   ]
  },
  {
   "cell_type": "code",
   "execution_count": 3,
   "metadata": {},
   "outputs": [],
   "source": [
    "columnas_a_eliminar = [\"player_face_url\", \"club_logo_url\", \"club_flag_url\", \"nation_logo_url\",\"pace\",\"mentality_aggression\",\"mentality_composure\",\"mentality_vision\",\"mentality_penalties\",\"mentality_positioning\",\"mentality_interceptions\", \"player_positions\",\"weight_kg\",\"height_cm\",\"nation_flag_url\", \"league_level\",\"sofifa_id\",\"body_type\", \"player_url\", \"short_name\", \"dob\", \"real_face\", \"club_jersey_number\", \"nation_jersey_number\", \"preferred_foot\",\"weak_foot\",\"club_loaned_from\", \"club_joined\", \"long_name\", \"league_name\", \"club_team_id\", \"club_name\", \"club_position\", \"nation_team_id\", \"nation_position\", \"nationality_id\", \"nationality_name\", \"club_contract_valid_until\", \"player_tags\", \"player_traits\", \"work_rate\", 'ls', 'st', 'rs', 'lw', 'lf', 'cf', 'rf', 'rw', 'lam', 'cam', 'ram',\n",
    "    'lm', 'lcm', 'cm', 'rcm', 'rm', 'lwb', 'ldm', 'cdm', 'rdm', 'rwb',\n",
    "    'lb', 'lcb', 'cb', 'rcb', 'rb', 'gk', 'attacking_crossing', 'attacking_finishing', 'attacking_heading_accuracy',\n",
    "    'attacking_short_passing', 'attacking_volleys', 'skill_dribbling', 'skill_curve',\n",
    "    'skill_fk_accuracy', 'skill_long_passing', 'skill_ball_control', 'movement_acceleration',\n",
    "    'movement_sprint_speed', 'movement_agility', 'movement_balance',\n",
    "    'power_shot_power', 'power_jumping', 'power_stamina', 'power_strength', 'power_long_shots',\n",
    "    'defending_marking_awareness', 'defending_standing_tackle', 'defending_sliding_tackle',\n",
    "    'goalkeeping_diving', 'goalkeeping_handling', 'goalkeeping_kicking', 'goalkeeping_positioning',\n",
    "    'goalkeeping_reflexes', 'goalkeeping_speed',\"age\",\"skill_moves\",\"physic\",\"shooting\",\"defending\",\"passing\",\"dribbling\",\"movement_reactions\"]\n",
    "fifa_limpio = fifa.drop(columnas_a_eliminar, axis=1)"
   ]
  },
  {
   "cell_type": "code",
   "execution_count": 4,
   "metadata": {},
   "outputs": [
    {
     "name": "stdout",
     "output_type": "stream",
     "text": [
      "Series([], dtype: int64)\n"
     ]
    }
   ],
   "source": [
    "fifa_limpio_no_null = fifa_limpio.dropna()\n",
    "\n",
    "missing_values_after_drop = fifa_limpio_no_null.isnull().sum()\n",
    "print(missing_values_after_drop[missing_values_after_drop > 0])"
   ]
  },
  {
   "cell_type": "code",
   "execution_count": 5,
   "metadata": {},
   "outputs": [
    {
     "data": {
      "text/html": [
       "<div>\n",
       "<style scoped>\n",
       "    .dataframe tbody tr th:only-of-type {\n",
       "        vertical-align: middle;\n",
       "    }\n",
       "\n",
       "    .dataframe tbody tr th {\n",
       "        vertical-align: top;\n",
       "    }\n",
       "\n",
       "    .dataframe thead th {\n",
       "        text-align: right;\n",
       "    }\n",
       "</style>\n",
       "<table border=\"1\" class=\"dataframe\">\n",
       "  <thead>\n",
       "    <tr style=\"text-align: right;\">\n",
       "      <th></th>\n",
       "      <th>overall</th>\n",
       "      <th>potential</th>\n",
       "      <th>value_eur</th>\n",
       "      <th>wage_eur</th>\n",
       "      <th>international_reputation</th>\n",
       "      <th>release_clause_eur</th>\n",
       "    </tr>\n",
       "  </thead>\n",
       "  <tbody>\n",
       "    <tr>\n",
       "      <th>0</th>\n",
       "      <td>93</td>\n",
       "      <td>93</td>\n",
       "      <td>78000000.0</td>\n",
       "      <td>320000.0</td>\n",
       "      <td>5</td>\n",
       "      <td>144300000.0</td>\n",
       "    </tr>\n",
       "    <tr>\n",
       "      <th>1</th>\n",
       "      <td>92</td>\n",
       "      <td>92</td>\n",
       "      <td>119500000.0</td>\n",
       "      <td>270000.0</td>\n",
       "      <td>5</td>\n",
       "      <td>197200000.0</td>\n",
       "    </tr>\n",
       "    <tr>\n",
       "      <th>2</th>\n",
       "      <td>91</td>\n",
       "      <td>91</td>\n",
       "      <td>45000000.0</td>\n",
       "      <td>270000.0</td>\n",
       "      <td>5</td>\n",
       "      <td>83300000.0</td>\n",
       "    </tr>\n",
       "    <tr>\n",
       "      <th>3</th>\n",
       "      <td>91</td>\n",
       "      <td>91</td>\n",
       "      <td>129000000.0</td>\n",
       "      <td>270000.0</td>\n",
       "      <td>5</td>\n",
       "      <td>238700000.0</td>\n",
       "    </tr>\n",
       "    <tr>\n",
       "      <th>4</th>\n",
       "      <td>91</td>\n",
       "      <td>91</td>\n",
       "      <td>125500000.0</td>\n",
       "      <td>350000.0</td>\n",
       "      <td>4</td>\n",
       "      <td>232200000.0</td>\n",
       "    </tr>\n",
       "    <tr>\n",
       "      <th>...</th>\n",
       "      <td>...</td>\n",
       "      <td>...</td>\n",
       "      <td>...</td>\n",
       "      <td>...</td>\n",
       "      <td>...</td>\n",
       "      <td>...</td>\n",
       "    </tr>\n",
       "    <tr>\n",
       "      <th>19234</th>\n",
       "      <td>47</td>\n",
       "      <td>52</td>\n",
       "      <td>70000.0</td>\n",
       "      <td>1000.0</td>\n",
       "      <td>1</td>\n",
       "      <td>114000.0</td>\n",
       "    </tr>\n",
       "    <tr>\n",
       "      <th>19235</th>\n",
       "      <td>47</td>\n",
       "      <td>59</td>\n",
       "      <td>110000.0</td>\n",
       "      <td>500.0</td>\n",
       "      <td>1</td>\n",
       "      <td>193000.0</td>\n",
       "    </tr>\n",
       "    <tr>\n",
       "      <th>19236</th>\n",
       "      <td>47</td>\n",
       "      <td>55</td>\n",
       "      <td>100000.0</td>\n",
       "      <td>500.0</td>\n",
       "      <td>1</td>\n",
       "      <td>175000.0</td>\n",
       "    </tr>\n",
       "    <tr>\n",
       "      <th>19237</th>\n",
       "      <td>47</td>\n",
       "      <td>60</td>\n",
       "      <td>110000.0</td>\n",
       "      <td>500.0</td>\n",
       "      <td>1</td>\n",
       "      <td>239000.0</td>\n",
       "    </tr>\n",
       "    <tr>\n",
       "      <th>19238</th>\n",
       "      <td>47</td>\n",
       "      <td>60</td>\n",
       "      <td>110000.0</td>\n",
       "      <td>500.0</td>\n",
       "      <td>1</td>\n",
       "      <td>217000.0</td>\n",
       "    </tr>\n",
       "  </tbody>\n",
       "</table>\n",
       "<p>18063 rows × 6 columns</p>\n",
       "</div>"
      ],
      "text/plain": [
       "       overall  potential    value_eur  wage_eur  international_reputation  \\\n",
       "0           93         93   78000000.0  320000.0                         5   \n",
       "1           92         92  119500000.0  270000.0                         5   \n",
       "2           91         91   45000000.0  270000.0                         5   \n",
       "3           91         91  129000000.0  270000.0                         5   \n",
       "4           91         91  125500000.0  350000.0                         4   \n",
       "...        ...        ...          ...       ...                       ...   \n",
       "19234       47         52      70000.0    1000.0                         1   \n",
       "19235       47         59     110000.0     500.0                         1   \n",
       "19236       47         55     100000.0     500.0                         1   \n",
       "19237       47         60     110000.0     500.0                         1   \n",
       "19238       47         60     110000.0     500.0                         1   \n",
       "\n",
       "       release_clause_eur  \n",
       "0             144300000.0  \n",
       "1             197200000.0  \n",
       "2              83300000.0  \n",
       "3             238700000.0  \n",
       "4             232200000.0  \n",
       "...                   ...  \n",
       "19234            114000.0  \n",
       "19235            193000.0  \n",
       "19236            175000.0  \n",
       "19237            239000.0  \n",
       "19238            217000.0  \n",
       "\n",
       "[18063 rows x 6 columns]"
      ]
     },
     "execution_count": 5,
     "metadata": {},
     "output_type": "execute_result"
    }
   ],
   "source": [
    "fifa_limpio_no_null"
   ]
  },
  {
   "cell_type": "code",
   "execution_count": 6,
   "metadata": {},
   "outputs": [
    {
     "name": "stdout",
     "output_type": "stream",
     "text": [
      "Número de características (features): 5\n"
     ]
    }
   ],
   "source": [
    "num_features = fifa_limpio_no_null.shape[1] - 1  \n",
    "\n",
    "print(\"Número de características (features):\", num_features)"
   ]
  },
  {
   "cell_type": "code",
   "execution_count": 7,
   "metadata": {},
   "outputs": [],
   "source": [
    "X = fifa_limpio_no_null.drop('value_eur', axis=1)\n",
    "y = fifa_limpio_no_null['value_eur']\n",
    "\n",
    "X_train, X_test, y_train, y_test = train_test_split(X, y, test_size=0.2, random_state=42)"
   ]
  },
  {
   "cell_type": "code",
   "execution_count": 8,
   "metadata": {},
   "outputs": [],
   "source": [
    "scaler = StandardScaler()\n",
    "X_train_scaled = scaler.fit_transform(X_train)\n",
    "X_test_scaled = scaler.transform(X_test)"
   ]
  },
  {
   "cell_type": "code",
   "execution_count": 9,
   "metadata": {},
   "outputs": [
    {
     "name": "stdout",
     "output_type": "stream",
     "text": [
      "WARNING:tensorflow:From C:\\Users\\herna\\AppData\\Local\\Packages\\PythonSoftwareFoundation.Python.3.11_qbz5n2kfra8p0\\LocalCache\\local-packages\\Python311\\site-packages\\keras\\src\\backend.py:873: The name tf.get_default_graph is deprecated. Please use tf.compat.v1.get_default_graph instead.\n",
      "\n",
      "WARNING:tensorflow:From C:\\Users\\herna\\AppData\\Local\\Packages\\PythonSoftwareFoundation.Python.3.11_qbz5n2kfra8p0\\LocalCache\\local-packages\\Python311\\site-packages\\keras\\src\\optimizers\\__init__.py:309: The name tf.train.Optimizer is deprecated. Please use tf.compat.v1.train.Optimizer instead.\n",
      "\n"
     ]
    }
   ],
   "source": [
    "model = Sequential()\n",
    "model.add(Dense(128, activation='relu', input_shape=(num_features,)))\n",
    "model.add(Dense(256, activation='relu'))\n",
    "model.add(Dropout(0.1))\n",
    "model.add(Dense(128, activation='relu'))\n",
    "model.add(Dropout(0.1))\n",
    "model.add(Dense(64, activation='relu'))\n",
    "model.add(Dropout(0.1))\n",
    "model.add(Dense(32, activation='relu'))\n",
    "model.add(Dense(16, activation='relu'))\n",
    "model.add(Dense(1, activation='linear'))\n",
    "\n",
    "model.compile(optimizer='adam', loss='mean_squared_error', metrics=['mae'])"
   ]
  },
  {
   "cell_type": "code",
   "execution_count": 10,
   "metadata": {},
   "outputs": [
    {
     "name": "stdout",
     "output_type": "stream",
     "text": [
      "Epoch 1/100\n",
      "WARNING:tensorflow:From C:\\Users\\herna\\AppData\\Local\\Packages\\PythonSoftwareFoundation.Python.3.11_qbz5n2kfra8p0\\LocalCache\\local-packages\\Python311\\site-packages\\keras\\src\\utils\\tf_utils.py:492: The name tf.ragged.RaggedTensorValue is deprecated. Please use tf.compat.v1.ragged.RaggedTensorValue instead.\n",
      "\n",
      "WARNING:tensorflow:From C:\\Users\\herna\\AppData\\Local\\Packages\\PythonSoftwareFoundation.Python.3.11_qbz5n2kfra8p0\\LocalCache\\local-packages\\Python311\\site-packages\\keras\\src\\engine\\base_layer_utils.py:384: The name tf.executing_eagerly_outside_functions is deprecated. Please use tf.compat.v1.executing_eagerly_outside_functions instead.\n",
      "\n",
      "452/452 [==============================] - 5s 6ms/step - loss: 30547573211136.0000 - mae: 1815473.0000 - val_loss: 6262424076288.0000 - val_mae: 1015079.2500\n",
      "Epoch 2/100\n",
      "452/452 [==============================] - 2s 5ms/step - loss: 5382010830848.0000 - mae: 890087.9375 - val_loss: 2842455965696.0000 - val_mae: 669221.4375\n",
      "Epoch 3/100\n",
      "452/452 [==============================] - 2s 5ms/step - loss: 2359685808128.0000 - mae: 579358.6250 - val_loss: 1187534340096.0000 - val_mae: 431061.5625\n",
      "Epoch 4/100\n",
      "452/452 [==============================] - 2s 5ms/step - loss: 1268193034240.0000 - mae: 452837.8125 - val_loss: 732721774592.0000 - val_mae: 365620.1250\n",
      "Epoch 5/100\n",
      "452/452 [==============================] - 2s 5ms/step - loss: 1071601876992.0000 - mae: 412487.5625 - val_loss: 676615225344.0000 - val_mae: 350200.2812\n",
      "Epoch 6/100\n",
      "452/452 [==============================] - 2s 5ms/step - loss: 986505216000.0000 - mae: 384557.9062 - val_loss: 575911952384.0000 - val_mae: 312899.5312\n",
      "Epoch 7/100\n",
      "452/452 [==============================] - 2s 5ms/step - loss: 1002420043776.0000 - mae: 368209.3438 - val_loss: 555866849280.0000 - val_mae: 315581.5000\n",
      "Epoch 8/100\n",
      "452/452 [==============================] - 2s 5ms/step - loss: 1015599792128.0000 - mae: 369409.4062 - val_loss: 514061238272.0000 - val_mae: 298949.1562\n",
      "Epoch 9/100\n",
      "452/452 [==============================] - 2s 5ms/step - loss: 858475134976.0000 - mae: 345211.3750 - val_loss: 594171265024.0000 - val_mae: 298587.6250\n",
      "Epoch 10/100\n",
      "452/452 [==============================] - 2s 5ms/step - loss: 853751693312.0000 - mae: 344540.0625 - val_loss: 491767070720.0000 - val_mae: 281826.2812\n",
      "Epoch 11/100\n",
      "452/452 [==============================] - 2s 5ms/step - loss: 932323131392.0000 - mae: 345988.0938 - val_loss: 479352422400.0000 - val_mae: 280462.9375\n",
      "Epoch 12/100\n",
      "452/452 [==============================] - 2s 5ms/step - loss: 862148952064.0000 - mae: 341607.2500 - val_loss: 475688534016.0000 - val_mae: 273249.9062\n",
      "Epoch 13/100\n",
      "452/452 [==============================] - 3s 6ms/step - loss: 933716557824.0000 - mae: 340194.7812 - val_loss: 464564420608.0000 - val_mae: 273605.4062\n",
      "Epoch 14/100\n",
      "452/452 [==============================] - 2s 5ms/step - loss: 824454610944.0000 - mae: 333380.7500 - val_loss: 457821192192.0000 - val_mae: 267700.7188\n",
      "Epoch 15/100\n",
      "452/452 [==============================] - 2s 5ms/step - loss: 882902499328.0000 - mae: 338225.7500 - val_loss: 465836900352.0000 - val_mae: 274232.3750\n",
      "Epoch 16/100\n",
      "452/452 [==============================] - 2s 5ms/step - loss: 765797269504.0000 - mae: 322144.3438 - val_loss: 443777155072.0000 - val_mae: 268476.0312\n",
      "Epoch 17/100\n",
      "452/452 [==============================] - 2s 5ms/step - loss: 980560445440.0000 - mae: 336508.0938 - val_loss: 1015512432640.0000 - val_mae: 323319.8125\n",
      "Epoch 18/100\n",
      "452/452 [==============================] - 2s 5ms/step - loss: 1138664800256.0000 - mae: 350703.4062 - val_loss: 851468288000.0000 - val_mae: 319421.3750\n",
      "Epoch 19/100\n",
      "452/452 [==============================] - 2s 5ms/step - loss: 842442670080.0000 - mae: 327793.9062 - val_loss: 445267116032.0000 - val_mae: 262029.6719\n",
      "Epoch 20/100\n",
      "452/452 [==============================] - 2s 5ms/step - loss: 1065365274624.0000 - mae: 340217.9062 - val_loss: 915893977088.0000 - val_mae: 336804.5000\n",
      "Epoch 21/100\n",
      "452/452 [==============================] - 2s 5ms/step - loss: 737689534464.0000 - mae: 316649.5312 - val_loss: 508634038272.0000 - val_mae: 266232.0000\n",
      "Epoch 22/100\n",
      "452/452 [==============================] - 2s 5ms/step - loss: 844299894784.0000 - mae: 322619.3750 - val_loss: 588495519744.0000 - val_mae: 310775.2188\n",
      "Epoch 23/100\n",
      "452/452 [==============================] - 2s 5ms/step - loss: 1015783882752.0000 - mae: 344208.2500 - val_loss: 541458530304.0000 - val_mae: 258413.1875\n",
      "Epoch 24/100\n",
      "452/452 [==============================] - 2s 5ms/step - loss: 876365807616.0000 - mae: 324525.5625 - val_loss: 420595367936.0000 - val_mae: 251219.0312\n",
      "Epoch 25/100\n",
      "452/452 [==============================] - 2s 5ms/step - loss: 846053441536.0000 - mae: 318222.5625 - val_loss: 500915765248.0000 - val_mae: 263866.7188\n",
      "Epoch 26/100\n",
      "452/452 [==============================] - 3s 7ms/step - loss: 805183881216.0000 - mae: 310059.0000 - val_loss: 435214548992.0000 - val_mae: 258998.0312\n",
      "Epoch 27/100\n",
      "452/452 [==============================] - 2s 5ms/step - loss: 761077497856.0000 - mae: 310785.4375 - val_loss: 530477285376.0000 - val_mae: 271999.0000\n",
      "Epoch 28/100\n",
      "452/452 [==============================] - 2s 6ms/step - loss: 960690847744.0000 - mae: 328013.5938 - val_loss: 424184119296.0000 - val_mae: 256637.1250\n",
      "Epoch 29/100\n",
      "452/452 [==============================] - 2s 5ms/step - loss: 724013088768.0000 - mae: 304919.8750 - val_loss: 424436236288.0000 - val_mae: 256471.5938\n",
      "Epoch 30/100\n",
      "452/452 [==============================] - 2s 5ms/step - loss: 1019907145728.0000 - mae: 317921.0000 - val_loss: 530712133632.0000 - val_mae: 255748.6094\n",
      "Epoch 31/100\n",
      "452/452 [==============================] - 2s 5ms/step - loss: 770728394752.0000 - mae: 308675.5312 - val_loss: 465862197248.0000 - val_mae: 246398.8438\n",
      "Epoch 32/100\n",
      "452/452 [==============================] - 2s 5ms/step - loss: 958853677056.0000 - mae: 319600.5625 - val_loss: 484585144320.0000 - val_mae: 244725.5469\n",
      "Epoch 33/100\n",
      "452/452 [==============================] - 2s 5ms/step - loss: 749574356992.0000 - mae: 304328.5625 - val_loss: 404430192640.0000 - val_mae: 237383.4375\n",
      "Epoch 34/100\n",
      "452/452 [==============================] - 2s 5ms/step - loss: 1124444274688.0000 - mae: 338187.4375 - val_loss: 703412240384.0000 - val_mae: 300934.3438\n",
      "Epoch 35/100\n",
      "452/452 [==============================] - 2s 5ms/step - loss: 824672649216.0000 - mae: 303340.7500 - val_loss: 398013366272.0000 - val_mae: 239764.2344\n",
      "Epoch 36/100\n",
      "452/452 [==============================] - 2s 5ms/step - loss: 806116458496.0000 - mae: 302592.7188 - val_loss: 392917811200.0000 - val_mae: 230796.7344\n",
      "Epoch 37/100\n",
      "452/452 [==============================] - 2s 5ms/step - loss: 959454969856.0000 - mae: 309447.5000 - val_loss: 413263364096.0000 - val_mae: 234092.4844\n",
      "Epoch 38/100\n",
      "452/452 [==============================] - 2s 5ms/step - loss: 848235921408.0000 - mae: 300457.6875 - val_loss: 442447724544.0000 - val_mae: 235068.0000\n",
      "Epoch 39/100\n",
      "452/452 [==============================] - 2s 5ms/step - loss: 721105977344.0000 - mae: 297168.2188 - val_loss: 963239018496.0000 - val_mae: 296902.7812\n",
      "Epoch 40/100\n",
      "452/452 [==============================] - 2s 5ms/step - loss: 840551759872.0000 - mae: 308998.2500 - val_loss: 409432391680.0000 - val_mae: 237431.0469\n",
      "Epoch 41/100\n",
      "452/452 [==============================] - 2s 5ms/step - loss: 856063082496.0000 - mae: 301429.3125 - val_loss: 400881614848.0000 - val_mae: 238036.9531\n",
      "Epoch 42/100\n",
      "452/452 [==============================] - 2s 5ms/step - loss: 774973489152.0000 - mae: 298041.1562 - val_loss: 388940464128.0000 - val_mae: 228992.0000\n",
      "Epoch 43/100\n",
      "452/452 [==============================] - 2s 5ms/step - loss: 731902771200.0000 - mae: 292115.0000 - val_loss: 389268766720.0000 - val_mae: 229253.8750\n",
      "Epoch 44/100\n",
      "452/452 [==============================] - 2s 5ms/step - loss: 843727962112.0000 - mae: 305296.5312 - val_loss: 390337036288.0000 - val_mae: 229734.7656\n",
      "Epoch 45/100\n",
      "452/452 [==============================] - 2s 5ms/step - loss: 817725374464.0000 - mae: 296073.5312 - val_loss: 394688233472.0000 - val_mae: 228185.5469\n",
      "Epoch 46/100\n",
      "452/452 [==============================] - 2s 5ms/step - loss: 781607763968.0000 - mae: 297245.1250 - val_loss: 395456512000.0000 - val_mae: 224706.0312\n",
      "Epoch 47/100\n",
      "452/452 [==============================] - 2s 5ms/step - loss: 757526888448.0000 - mae: 289990.2500 - val_loss: 480644792320.0000 - val_mae: 256300.0312\n",
      "Epoch 48/100\n",
      "452/452 [==============================] - 2s 5ms/step - loss: 819131449344.0000 - mae: 312021.9062 - val_loss: 427903877120.0000 - val_mae: 242890.0156\n",
      "Epoch 49/100\n",
      "452/452 [==============================] - 2s 5ms/step - loss: 888788811776.0000 - mae: 300426.1875 - val_loss: 457029681152.0000 - val_mae: 236818.5000\n",
      "Epoch 50/100\n",
      "452/452 [==============================] - 3s 6ms/step - loss: 825717817344.0000 - mae: 296149.3438 - val_loss: 838181126144.0000 - val_mae: 307525.9375\n",
      "Epoch 51/100\n",
      "452/452 [==============================] - 3s 6ms/step - loss: 899763011584.0000 - mae: 301899.3750 - val_loss: 420984029184.0000 - val_mae: 248688.7812\n",
      "Epoch 52/100\n",
      "452/452 [==============================] - 2s 5ms/step - loss: 708248272896.0000 - mae: 283216.5000 - val_loss: 572931768320.0000 - val_mae: 247108.1406\n",
      "Epoch 53/100\n",
      "452/452 [==============================] - 2s 5ms/step - loss: 838569623552.0000 - mae: 296067.7500 - val_loss: 411012268032.0000 - val_mae: 223441.8594\n",
      "Epoch 54/100\n",
      "452/452 [==============================] - 2s 5ms/step - loss: 742481985536.0000 - mae: 290446.3438 - val_loss: 680454258688.0000 - val_mae: 246463.2500\n",
      "Epoch 55/100\n",
      "452/452 [==============================] - 2s 5ms/step - loss: 737530216448.0000 - mae: 294667.4688 - val_loss: 412813885440.0000 - val_mae: 238602.1250\n",
      "Epoch 56/100\n",
      "452/452 [==============================] - 2s 5ms/step - loss: 732609511424.0000 - mae: 291865.9688 - val_loss: 643768320000.0000 - val_mae: 281865.5625\n",
      "Epoch 57/100\n",
      "452/452 [==============================] - 2s 5ms/step - loss: 753636737024.0000 - mae: 288739.6875 - val_loss: 375125868544.0000 - val_mae: 222762.0625\n",
      "Epoch 58/100\n",
      "452/452 [==============================] - 2s 5ms/step - loss: 727618158592.0000 - mae: 281077.3125 - val_loss: 383526207488.0000 - val_mae: 220948.4219\n",
      "Epoch 59/100\n",
      "452/452 [==============================] - 2s 5ms/step - loss: 706143649792.0000 - mae: 281641.3750 - val_loss: 497912971264.0000 - val_mae: 275608.8125\n",
      "Epoch 60/100\n",
      "452/452 [==============================] - 3s 6ms/step - loss: 839666237440.0000 - mae: 299342.4375 - val_loss: 385731723264.0000 - val_mae: 229702.6562\n",
      "Epoch 61/100\n",
      "452/452 [==============================] - 2s 5ms/step - loss: 836745297920.0000 - mae: 294890.4688 - val_loss: 871131185152.0000 - val_mae: 293660.4688\n",
      "Epoch 62/100\n",
      "452/452 [==============================] - 2s 6ms/step - loss: 751054290944.0000 - mae: 284907.8125 - val_loss: 381693624320.0000 - val_mae: 223574.6719\n",
      "Epoch 63/100\n",
      "452/452 [==============================] - 2s 5ms/step - loss: 694930898944.0000 - mae: 286946.9688 - val_loss: 371296174080.0000 - val_mae: 219133.5156\n",
      "Epoch 64/100\n",
      "452/452 [==============================] - 2s 5ms/step - loss: 709699633152.0000 - mae: 285469.8125 - val_loss: 434445877248.0000 - val_mae: 222378.1250\n",
      "Epoch 65/100\n",
      "452/452 [==============================] - 2s 5ms/step - loss: 825974915072.0000 - mae: 291593.0625 - val_loss: 396196610048.0000 - val_mae: 221498.5625\n",
      "Epoch 66/100\n",
      "452/452 [==============================] - 2s 5ms/step - loss: 824867422208.0000 - mae: 292529.5312 - val_loss: 535261708288.0000 - val_mae: 248987.7500\n",
      "Epoch 67/100\n",
      "452/452 [==============================] - 2s 5ms/step - loss: 749585563648.0000 - mae: 284320.0000 - val_loss: 823062036480.0000 - val_mae: 286915.3750\n",
      "Epoch 68/100\n",
      "452/452 [==============================] - 2s 5ms/step - loss: 820473626624.0000 - mae: 293243.3125 - val_loss: 621943455744.0000 - val_mae: 249585.4688\n",
      "Epoch 69/100\n",
      "452/452 [==============================] - 2s 5ms/step - loss: 868978655232.0000 - mae: 289139.3125 - val_loss: 372628455424.0000 - val_mae: 223165.3594\n",
      "Epoch 70/100\n",
      "452/452 [==============================] - 3s 6ms/step - loss: 986545913856.0000 - mae: 305072.5625 - val_loss: 424408154112.0000 - val_mae: 218958.7031\n",
      "Epoch 71/100\n",
      "452/452 [==============================] - 3s 6ms/step - loss: 657944936448.0000 - mae: 277843.0625 - val_loss: 399740600320.0000 - val_mae: 235800.6562\n",
      "Epoch 72/100\n",
      "452/452 [==============================] - 2s 5ms/step - loss: 777440198656.0000 - mae: 295100.1562 - val_loss: 487132004352.0000 - val_mae: 245272.7656\n",
      "Epoch 73/100\n",
      "452/452 [==============================] - 3s 6ms/step - loss: 691836616704.0000 - mae: 274995.7188 - val_loss: 641374486528.0000 - val_mae: 299134.0938\n",
      "Epoch 74/100\n",
      "452/452 [==============================] - 3s 6ms/step - loss: 880823435264.0000 - mae: 290548.4375 - val_loss: 402071912448.0000 - val_mae: 227117.0000\n",
      "Epoch 75/100\n",
      "452/452 [==============================] - 3s 7ms/step - loss: 708829642752.0000 - mae: 280072.8125 - val_loss: 514429616128.0000 - val_mae: 234444.5781\n",
      "Epoch 76/100\n",
      "452/452 [==============================] - 4s 8ms/step - loss: 758747627520.0000 - mae: 276787.7188 - val_loss: 574132781056.0000 - val_mae: 230134.9688\n",
      "Epoch 77/100\n",
      "452/452 [==============================] - 2s 5ms/step - loss: 794000818176.0000 - mae: 289126.8125 - val_loss: 778742005760.0000 - val_mae: 282330.5938\n",
      "Epoch 78/100\n",
      "452/452 [==============================] - 2s 5ms/step - loss: 611071033344.0000 - mae: 272555.9062 - val_loss: 386829844480.0000 - val_mae: 214707.0000\n",
      "Epoch 79/100\n",
      "452/452 [==============================] - 2s 5ms/step - loss: 869644894208.0000 - mae: 295422.0312 - val_loss: 413731258368.0000 - val_mae: 235345.7656\n",
      "Epoch 80/100\n",
      "452/452 [==============================] - 2s 5ms/step - loss: 891104591872.0000 - mae: 296298.2812 - val_loss: 383892619264.0000 - val_mae: 221338.2656\n",
      "Epoch 81/100\n",
      "452/452 [==============================] - 2s 5ms/step - loss: 876312068096.0000 - mae: 291076.6562 - val_loss: 775418216448.0000 - val_mae: 283675.9375\n",
      "Epoch 82/100\n",
      "452/452 [==============================] - 2s 5ms/step - loss: 664545329152.0000 - mae: 273454.3750 - val_loss: 532644888576.0000 - val_mae: 253460.6562\n",
      "Epoch 83/100\n",
      "452/452 [==============================] - 2s 5ms/step - loss: 647810580480.0000 - mae: 274495.8438 - val_loss: 378923515904.0000 - val_mae: 221823.9688\n",
      "Epoch 84/100\n",
      "452/452 [==============================] - 2s 5ms/step - loss: 865825849344.0000 - mae: 293721.1250 - val_loss: 391844593664.0000 - val_mae: 234315.2188\n",
      "Epoch 85/100\n",
      "452/452 [==============================] - 2s 5ms/step - loss: 730419625984.0000 - mae: 278186.5625 - val_loss: 587114741760.0000 - val_mae: 258199.6250\n",
      "Epoch 86/100\n",
      "452/452 [==============================] - 3s 6ms/step - loss: 872023719936.0000 - mae: 298485.2188 - val_loss: 575178932224.0000 - val_mae: 232600.5156\n",
      "Epoch 87/100\n",
      "452/452 [==============================] - 3s 6ms/step - loss: 817467817984.0000 - mae: 292405.9688 - val_loss: 386365915136.0000 - val_mae: 221061.1562\n",
      "Epoch 88/100\n",
      "452/452 [==============================] - 3s 6ms/step - loss: 637227368448.0000 - mae: 272255.5938 - val_loss: 382172069888.0000 - val_mae: 215898.4219\n",
      "Epoch 89/100\n",
      "452/452 [==============================] - 3s 6ms/step - loss: 642660761600.0000 - mae: 269297.2812 - val_loss: 374338453504.0000 - val_mae: 218952.9844\n",
      "Epoch 90/100\n",
      "452/452 [==============================] - 2s 5ms/step - loss: 861448962048.0000 - mae: 288920.2188 - val_loss: 386330558464.0000 - val_mae: 211413.6406\n",
      "Epoch 91/100\n",
      "452/452 [==============================] - 2s 5ms/step - loss: 830292688896.0000 - mae: 289644.6562 - val_loss: 534680600576.0000 - val_mae: 226987.0312\n",
      "Epoch 92/100\n",
      "452/452 [==============================] - 2s 5ms/step - loss: 763305590784.0000 - mae: 281569.9062 - val_loss: 377942016000.0000 - val_mae: 217974.9062\n",
      "Epoch 93/100\n",
      "452/452 [==============================] - 2s 5ms/step - loss: 729946914816.0000 - mae: 278242.0625 - val_loss: 397148782592.0000 - val_mae: 216245.2344\n",
      "Epoch 94/100\n",
      "452/452 [==============================] - 2s 5ms/step - loss: 816378806272.0000 - mae: 284405.8750 - val_loss: 382864162816.0000 - val_mae: 226977.7500\n",
      "Epoch 95/100\n",
      "452/452 [==============================] - 2s 5ms/step - loss: 914312200192.0000 - mae: 296418.1562 - val_loss: 881186439168.0000 - val_mae: 263349.7500\n",
      "Epoch 96/100\n",
      "452/452 [==============================] - 2s 5ms/step - loss: 792316674048.0000 - mae: 286672.1562 - val_loss: 355242639360.0000 - val_mae: 207782.1094\n",
      "Epoch 97/100\n",
      "452/452 [==============================] - 2s 5ms/step - loss: 747986812928.0000 - mae: 273058.8438 - val_loss: 394278338560.0000 - val_mae: 219935.6875\n",
      "Epoch 98/100\n",
      "452/452 [==============================] - 2s 5ms/step - loss: 782754512896.0000 - mae: 282652.4062 - val_loss: 1345690009600.0000 - val_mae: 309662.8125\n",
      "Epoch 99/100\n",
      "452/452 [==============================] - 2s 5ms/step - loss: 739136831488.0000 - mae: 277238.2812 - val_loss: 410896859136.0000 - val_mae: 224004.4844\n",
      "Epoch 100/100\n",
      "452/452 [==============================] - 2s 5ms/step - loss: 778444275712.0000 - mae: 279529.2812 - val_loss: 366502936576.0000 - val_mae: 213868.3906\n"
     ]
    }
   ],
   "source": [
    "history = model.fit(X_train_scaled, y_train, epochs=100, batch_size=32, validation_data=(X_test_scaled, y_test))"
   ]
  },
  {
   "cell_type": "code",
   "execution_count": 11,
   "metadata": {},
   "outputs": [
    {
     "name": "stdout",
     "output_type": "stream",
     "text": [
      "113/113 [==============================] - 0s 2ms/step - loss: 366502936576.0000 - mae: 213868.3906\n",
      "Loss: 366502936576.0, MAE: 213868.390625\n"
     ]
    }
   ],
   "source": [
    "loss, mae = model.evaluate(X_test_scaled, y_test)\n",
    "print(f'Loss: {loss}, MAE: {mae}')"
   ]
  },
  {
   "cell_type": "code",
   "execution_count": 12,
   "metadata": {},
   "outputs": [
    {
     "name": "stdout",
     "output_type": "stream",
     "text": [
      "113/113 [==============================] - 1s 2ms/step\n",
      "Predicción: [1113882.8], Valor real: 1300000.0\n",
      "Predicción: [337666.66], Valor real: 325000.0\n",
      "Predicción: [623710.75], Valor real: 750000.0\n",
      "Predicción: [1276907.], Valor real: 1300000.0\n",
      "Predicción: [1885854.2], Valor real: 1800000.0\n",
      "Predicción: [405348.16], Valor real: 450000.0\n",
      "Predicción: [1205392.], Valor real: 1300000.0\n",
      "Predicción: [10076678.], Valor real: 9500000.0\n",
      "Predicción: [4386735.5], Valor real: 4000000.0\n",
      "Predicción: [208558.73], Valor real: 210000.0\n"
     ]
    }
   ],
   "source": [
    "predictions = model.predict(X_test_scaled)\n",
    "\n",
    "ultimas_cinco_predicciones = predictions[-10:]\n",
    "valores_reales = y_test[-10:]\n",
    "\n",
    "for i in range(len(ultimas_cinco_predicciones)):\n",
    "    print(f\"Predicción: {ultimas_cinco_predicciones[i]}, Valor real: {valores_reales.iloc[i]}\")"
   ]
  },
  {
   "cell_type": "code",
   "execution_count": 13,
   "metadata": {},
   "outputs": [
    {
     "data": {
      "image/png": "[encoded data removed]",
      "text/plain": [
       "<Figure size 640x480 with 1 Axes>"
      ]
     },
     "metadata": {},
     "output_type": "display_data"
    }
   ],
   "source": [
    "loss = history.history['loss']\n",
    "val_loss = history.history['val_loss']\n",
    "\n",
    "epochs = range(1, len(loss) + 1)\n",
    "\n",
    "plt.plot(epochs, loss, 'bo', label='Training loss')\n",
    "plt.plot(epochs, val_loss, 'b', label='Validation loss')\n",
    "plt.title('Training and validation loss')\n",
    "plt.xlabel('Epochs')\n",
    "plt.ylabel('Loss')\n",
    "plt.legend()\n",
    "\n",
    "plt.show()\n"
   ]
  },
  {
   "cell_type": "code",
   "execution_count": 14,
   "metadata": {},
   "outputs": [
    {
     "name": "stdout",
     "output_type": "stream",
     "text": [
      "113/113 [==============================] - 0s 2ms/step - loss: 366502936576.0000 - mae: 213868.3906\n",
      "Loss on test set: 366502936576.0, MAE on test set: 213868.390625\n"
     ]
    }
   ],
   "source": [
    "eval_results = model.evaluate(X_test_scaled, y_test)\n",
    "print(f\"Loss on test set: {eval_results[0]}, MAE on test set: {eval_results[1]}\")"
   ]
  },
  {
   "cell_type": "code",
   "execution_count": null,
   "metadata": {},
   "outputs": [],
   "source": []
  },
  {
   "cell_type": "code",
   "execution_count": null,
   "metadata": {},
   "outputs": [],
   "source": []
  }
 ],
 "metadata": {
  "kernelspec": {
   "display_name": "Python 3",
   "language": "python",
   "name": "python3"
  },
  "language_info": {
   "codemirror_mode": {
    "name": "ipython",
    "version": 3
   },
   "file_extension": ".py",
   "mimetype": "text/x-python",
   "name": "python",
   "nbconvert_exporter": "python",
   "pygments_lexer": "ipython3",
   "version": "3.11.7"
  }
 },
 "nbformat": 4,
 "nbformat_minor": 2
}
