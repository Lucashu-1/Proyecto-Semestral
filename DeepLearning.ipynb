{
 "cells": [
  {
   "cell_type": "code",
   "execution_count": 1,
   "metadata": {},
   "outputs": [
    {
     "name": "stdout",
     "output_type": "stream",
     "text": [
      "WARNING:tensorflow:From C:\\Users\\herna\\AppData\\Local\\Packages\\PythonSoftwareFoundation.Python.3.11_qbz5n2kfra8p0\\LocalCache\\local-packages\\Python311\\site-packages\\keras\\src\\losses.py:2976: The name tf.losses.sparse_softmax_cross_entropy is deprecated. Please use tf.compat.v1.losses.sparse_softmax_cross_entropy instead.\n",
      "\n"
     ]
    }
   ],
   "source": [
    "import pandas as pd\n",
    "from sklearn.model_selection import train_test_split\n",
    "from sklearn.model_selection import cross_val_score\n",
    "from sklearn.preprocessing import StandardScaler\n",
    "import tensorflow as tf\n",
    "from keras.models import Sequential\n",
    "from keras.layers import Dense, Dropout \n",
    "import matplotlib.pyplot as plt"
   ]
  },
  {
   "cell_type": "code",
   "execution_count": 2,
   "metadata": {},
   "outputs": [
    {
     "name": "stderr",
     "output_type": "stream",
     "text": [
      "C:\\Users\\herna\\AppData\\Local\\Temp\\ipykernel_11908\\2231276672.py:1: DtypeWarning: Columns (25,108) have mixed types. Specify dtype option on import or set low_memory=False.\n",
      "  fifa = pd.read_csv('./players_22.csv')\n"
     ]
    }
   ],
   "source": [
    "fifa = pd.read_csv('./players_22.csv')"
   ]
  },
  {
   "cell_type": "code",
   "execution_count": 3,
   "metadata": {},
   "outputs": [],
   "source": [
    "columnas_a_eliminar = [\"player_face_url\", \"club_logo_url\", \"club_flag_url\", \"nation_logo_url\",\"pace\",\"mentality_aggression\",\"mentality_composure\",\"mentality_vision\",\"mentality_penalties\",\"mentality_positioning\",\"mentality_interceptions\", \"player_positions\",\"weight_kg\",\"height_cm\",\"nation_flag_url\", \"league_level\",\"sofifa_id\",\"body_type\", \"player_url\", \"short_name\", \"dob\", \"real_face\", \"club_jersey_number\", \"nation_jersey_number\", \"preferred_foot\",\"weak_foot\",\"club_loaned_from\", \"club_joined\", \"long_name\", \"league_name\", \"club_team_id\", \"club_name\", \"club_position\", \"nation_team_id\", \"nation_position\", \"nationality_id\", \"nationality_name\", \"club_contract_valid_until\", \"player_tags\", \"player_traits\", \"work_rate\", 'ls', 'st', 'rs', 'lw', 'lf', 'cf', 'rf', 'rw', 'lam', 'cam', 'ram',\n",
    "    'lm', 'lcm', 'cm', 'rcm', 'rm', 'lwb', 'ldm', 'cdm', 'rdm', 'rwb',\n",
    "    'lb', 'lcb', 'cb', 'rcb', 'rb', 'gk', 'attacking_crossing', 'attacking_finishing', 'attacking_heading_accuracy',\n",
    "    'attacking_short_passing', 'attacking_volleys', 'skill_dribbling', 'skill_curve',\n",
    "    'skill_fk_accuracy', 'skill_long_passing', 'skill_ball_control', 'movement_acceleration',\n",
    "    'movement_sprint_speed', 'movement_agility', 'movement_balance',\n",
    "    'power_shot_power', 'power_jumping', 'power_stamina', 'power_strength', 'power_long_shots',\n",
    "    'defending_marking_awareness', 'defending_standing_tackle', 'defending_sliding_tackle',\n",
    "    'goalkeeping_diving', 'goalkeeping_handling', 'goalkeeping_kicking', 'goalkeeping_positioning',\n",
    "    'goalkeeping_reflexes', 'goalkeeping_speed',\"age\",\"skill_moves\",\"physic\",\"shooting\",\"defending\",\"passing\",\"dribbling\",\"movement_reactions\"]\n",
    "fifa_limpio = fifa.drop(columnas_a_eliminar, axis=1)"
   ]
  },
  {
   "cell_type": "code",
   "execution_count": 4,
   "metadata": {},
   "outputs": [
    {
     "name": "stdout",
     "output_type": "stream",
     "text": [
      "Series([], dtype: int64)\n"
     ]
    }
   ],
   "source": [
    "fifa_limpio_no_null = fifa_limpio.dropna()\n",
    "\n",
    "missing_values_after_drop = fifa_limpio_no_null.isnull().sum()\n",
    "print(missing_values_after_drop[missing_values_after_drop > 0])"
   ]
  },
  {
   "cell_type": "code",
   "execution_count": 5,
   "metadata": {},
   "outputs": [
    {
     "data": {
      "text/html": [
       "<div>\n",
       "<style scoped>\n",
       "    .dataframe tbody tr th:only-of-type {\n",
       "        vertical-align: middle;\n",
       "    }\n",
       "\n",
       "    .dataframe tbody tr th {\n",
       "        vertical-align: top;\n",
       "    }\n",
       "\n",
       "    .dataframe thead th {\n",
       "        text-align: right;\n",
       "    }\n",
       "</style>\n",
       "<table border=\"1\" class=\"dataframe\">\n",
       "  <thead>\n",
       "    <tr style=\"text-align: right;\">\n",
       "      <th></th>\n",
       "      <th>overall</th>\n",
       "      <th>potential</th>\n",
       "      <th>value_eur</th>\n",
       "      <th>wage_eur</th>\n",
       "      <th>international_reputation</th>\n",
       "      <th>release_clause_eur</th>\n",
       "    </tr>\n",
       "  </thead>\n",
       "  <tbody>\n",
       "    <tr>\n",
       "      <th>0</th>\n",
       "      <td>93</td>\n",
       "      <td>93</td>\n",
       "      <td>78000000.0</td>\n",
       "      <td>320000.0</td>\n",
       "      <td>5</td>\n",
       "      <td>144300000.0</td>\n",
       "    </tr>\n",
       "    <tr>\n",
       "      <th>1</th>\n",
       "      <td>92</td>\n",
       "      <td>92</td>\n",
       "      <td>119500000.0</td>\n",
       "      <td>270000.0</td>\n",
       "      <td>5</td>\n",
       "      <td>197200000.0</td>\n",
       "    </tr>\n",
       "    <tr>\n",
       "      <th>2</th>\n",
       "      <td>91</td>\n",
       "      <td>91</td>\n",
       "      <td>45000000.0</td>\n",
       "      <td>270000.0</td>\n",
       "      <td>5</td>\n",
       "      <td>83300000.0</td>\n",
       "    </tr>\n",
       "    <tr>\n",
       "      <th>3</th>\n",
       "      <td>91</td>\n",
       "      <td>91</td>\n",
       "      <td>129000000.0</td>\n",
       "      <td>270000.0</td>\n",
       "      <td>5</td>\n",
       "      <td>238700000.0</td>\n",
       "    </tr>\n",
       "    <tr>\n",
       "      <th>4</th>\n",
       "      <td>91</td>\n",
       "      <td>91</td>\n",
       "      <td>125500000.0</td>\n",
       "      <td>350000.0</td>\n",
       "      <td>4</td>\n",
       "      <td>232200000.0</td>\n",
       "    </tr>\n",
       "    <tr>\n",
       "      <th>...</th>\n",
       "      <td>...</td>\n",
       "      <td>...</td>\n",
       "      <td>...</td>\n",
       "      <td>...</td>\n",
       "      <td>...</td>\n",
       "      <td>...</td>\n",
       "    </tr>\n",
       "    <tr>\n",
       "      <th>19234</th>\n",
       "      <td>47</td>\n",
       "      <td>52</td>\n",
       "      <td>70000.0</td>\n",
       "      <td>1000.0</td>\n",
       "      <td>1</td>\n",
       "      <td>114000.0</td>\n",
       "    </tr>\n",
       "    <tr>\n",
       "      <th>19235</th>\n",
       "      <td>47</td>\n",
       "      <td>59</td>\n",
       "      <td>110000.0</td>\n",
       "      <td>500.0</td>\n",
       "      <td>1</td>\n",
       "      <td>193000.0</td>\n",
       "    </tr>\n",
       "    <tr>\n",
       "      <th>19236</th>\n",
       "      <td>47</td>\n",
       "      <td>55</td>\n",
       "      <td>100000.0</td>\n",
       "      <td>500.0</td>\n",
       "      <td>1</td>\n",
       "      <td>175000.0</td>\n",
       "    </tr>\n",
       "    <tr>\n",
       "      <th>19237</th>\n",
       "      <td>47</td>\n",
       "      <td>60</td>\n",
       "      <td>110000.0</td>\n",
       "      <td>500.0</td>\n",
       "      <td>1</td>\n",
       "      <td>239000.0</td>\n",
       "    </tr>\n",
       "    <tr>\n",
       "      <th>19238</th>\n",
       "      <td>47</td>\n",
       "      <td>60</td>\n",
       "      <td>110000.0</td>\n",
       "      <td>500.0</td>\n",
       "      <td>1</td>\n",
       "      <td>217000.0</td>\n",
       "    </tr>\n",
       "  </tbody>\n",
       "</table>\n",
       "<p>18063 rows × 6 columns</p>\n",
       "</div>"
      ],
      "text/plain": [
       "       overall  potential    value_eur  wage_eur  international_reputation  \\\n",
       "0           93         93   78000000.0  320000.0                         5   \n",
       "1           92         92  119500000.0  270000.0                         5   \n",
       "2           91         91   45000000.0  270000.0                         5   \n",
       "3           91         91  129000000.0  270000.0                         5   \n",
       "4           91         91  125500000.0  350000.0                         4   \n",
       "...        ...        ...          ...       ...                       ...   \n",
       "19234       47         52      70000.0    1000.0                         1   \n",
       "19235       47         59     110000.0     500.0                         1   \n",
       "19236       47         55     100000.0     500.0                         1   \n",
       "19237       47         60     110000.0     500.0                         1   \n",
       "19238       47         60     110000.0     500.0                         1   \n",
       "\n",
       "       release_clause_eur  \n",
       "0             144300000.0  \n",
       "1             197200000.0  \n",
       "2              83300000.0  \n",
       "3             238700000.0  \n",
       "4             232200000.0  \n",
       "...                   ...  \n",
       "19234            114000.0  \n",
       "19235            193000.0  \n",
       "19236            175000.0  \n",
       "19237            239000.0  \n",
       "19238            217000.0  \n",
       "\n",
       "[18063 rows x 6 columns]"
      ]
     },
     "execution_count": 5,
     "metadata": {},
     "output_type": "execute_result"
    }
   ],
   "source": [
    "fifa_limpio_no_null"
   ]
  },
  {
   "cell_type": "code",
   "execution_count": 6,
   "metadata": {},
   "outputs": [
    {
     "name": "stdout",
     "output_type": "stream",
     "text": [
      "Número de características (features): 5\n"
     ]
    }
   ],
   "source": [
    "num_features = fifa_limpio_no_null.shape[1] - 1  \n",
    "\n",
    "print(\"Número de características (features):\", num_features)"
   ]
  },
  {
   "cell_type": "code",
   "execution_count": 7,
   "metadata": {},
   "outputs": [],
   "source": [
    "X = fifa_limpio_no_null.drop('value_eur', axis=1)\n",
    "y = fifa_limpio_no_null['value_eur']\n",
    "\n",
    "X_train, X_test, y_train, y_test = train_test_split(X, y, test_size=0.2, random_state=42)"
   ]
  },
  {
   "cell_type": "code",
   "execution_count": 8,
   "metadata": {},
   "outputs": [],
   "source": [
    "scaler = StandardScaler()\n",
    "X_train_scaled = scaler.fit_transform(X_train)\n",
    "X_test_scaled = scaler.transform(X_test)"
   ]
  },
  {
   "cell_type": "code",
   "execution_count": 9,
   "metadata": {},
   "outputs": [
    {
     "name": "stdout",
     "output_type": "stream",
     "text": [
      "WARNING:tensorflow:From C:\\Users\\herna\\AppData\\Local\\Packages\\PythonSoftwareFoundation.Python.3.11_qbz5n2kfra8p0\\LocalCache\\local-packages\\Python311\\site-packages\\keras\\src\\backend.py:873: The name tf.get_default_graph is deprecated. Please use tf.compat.v1.get_default_graph instead.\n",
      "\n",
      "WARNING:tensorflow:From C:\\Users\\herna\\AppData\\Local\\Packages\\PythonSoftwareFoundation.Python.3.11_qbz5n2kfra8p0\\LocalCache\\local-packages\\Python311\\site-packages\\keras\\src\\optimizers\\__init__.py:309: The name tf.train.Optimizer is deprecated. Please use tf.compat.v1.train.Optimizer instead.\n",
      "\n"
     ]
    }
   ],
   "source": [
    "model = Sequential()\n",
    "model.add(Dense(128, activation='relu', input_shape=(num_features,)))\n",
    "model.add(Dense(256, activation='relu'))\n",
    "model.add(Dropout(0.1))\n",
    "model.add(Dense(128, activation='relu'))\n",
    "model.add(Dropout(0.1))\n",
    "model.add(Dense(64, activation='relu'))\n",
    "model.add(Dropout(0.1))\n",
    "model.add(Dense(32, activation='relu'))\n",
    "model.add(Dense(16, activation='relu'))\n",
    "model.add(Dense(1, activation='linear'))\n",
    "\n",
    "model.compile(optimizer='adam', loss='mean_squared_error', metrics=['mae'])"
   ]
  },
  {
   "cell_type": "code",
   "execution_count": 10,
   "metadata": {},
   "outputs": [
    {
     "name": "stdout",
     "output_type": "stream",
     "text": [
      "Epoch 1/75\n",
      "WARNING:tensorflow:From C:\\Users\\herna\\AppData\\Local\\Packages\\PythonSoftwareFoundation.Python.3.11_qbz5n2kfra8p0\\LocalCache\\local-packages\\Python311\\site-packages\\keras\\src\\utils\\tf_utils.py:492: The name tf.ragged.RaggedTensorValue is deprecated. Please use tf.compat.v1.ragged.RaggedTensorValue instead.\n",
      "\n",
      "WARNING:tensorflow:From C:\\Users\\herna\\AppData\\Local\\Packages\\PythonSoftwareFoundation.Python.3.11_qbz5n2kfra8p0\\LocalCache\\local-packages\\Python311\\site-packages\\keras\\src\\engine\\base_layer_utils.py:384: The name tf.executing_eagerly_outside_functions is deprecated. Please use tf.compat.v1.executing_eagerly_outside_functions instead.\n",
      "\n",
      "452/452 [==============================] - 6s 7ms/step - loss: 33385300885504.0000 - mae: 1827420.6250 - val_loss: 5823126831104.0000 - val_mae: 1045587.1875\n",
      "Epoch 2/75\n",
      "452/452 [==============================] - 3s 6ms/step - loss: 4605218914304.0000 - mae: 866469.8125 - val_loss: 2970569932800.0000 - val_mae: 681109.9375\n",
      "Epoch 3/75\n",
      "452/452 [==============================] - 2s 5ms/step - loss: 1934538571776.0000 - mae: 532220.2500 - val_loss: 994259369984.0000 - val_mae: 414260.2188\n",
      "Epoch 4/75\n",
      "452/452 [==============================] - 3s 6ms/step - loss: 1393852284928.0000 - mae: 445687.0312 - val_loss: 750760099840.0000 - val_mae: 405359.1875\n",
      "Epoch 5/75\n",
      "452/452 [==============================] - 3s 7ms/step - loss: 1115761672192.0000 - mae: 415157.7188 - val_loss: 719722708992.0000 - val_mae: 345094.8438\n",
      "Epoch 6/75\n",
      "452/452 [==============================] - 3s 7ms/step - loss: 1021902323712.0000 - mae: 391106.6250 - val_loss: 589384056832.0000 - val_mae: 328016.7188\n",
      "Epoch 7/75\n",
      "452/452 [==============================] - 2s 5ms/step - loss: 970997170176.0000 - mae: 376566.7500 - val_loss: 651460935680.0000 - val_mae: 335346.0000\n",
      "Epoch 8/75\n",
      "452/452 [==============================] - 3s 6ms/step - loss: 1001000206336.0000 - mae: 375640.0938 - val_loss: 592555081728.0000 - val_mae: 317102.1875\n",
      "Epoch 9/75\n",
      "452/452 [==============================] - 3s 6ms/step - loss: 1028157865984.0000 - mae: 378242.0625 - val_loss: 517016125440.0000 - val_mae: 306268.5000\n",
      "Epoch 10/75\n",
      "452/452 [==============================] - 3s 6ms/step - loss: 931535323136.0000 - mae: 367743.1562 - val_loss: 976083484672.0000 - val_mae: 352344.0625\n",
      "Epoch 11/75\n",
      "452/452 [==============================] - 3s 6ms/step - loss: 915095617536.0000 - mae: 359714.0625 - val_loss: 630743695360.0000 - val_mae: 319520.1250\n",
      "Epoch 12/75\n",
      "452/452 [==============================] - 3s 7ms/step - loss: 1121143226368.0000 - mae: 369559.1250 - val_loss: 592484433920.0000 - val_mae: 311595.1250\n",
      "Epoch 13/75\n",
      "452/452 [==============================] - 3s 6ms/step - loss: 870362710016.0000 - mae: 355260.4062 - val_loss: 520318550016.0000 - val_mae: 298408.5312\n",
      "Epoch 14/75\n",
      "452/452 [==============================] - 3s 6ms/step - loss: 878220738560.0000 - mae: 351154.6250 - val_loss: 597235662848.0000 - val_mae: 320028.1562\n",
      "Epoch 15/75\n",
      "452/452 [==============================] - 3s 6ms/step - loss: 803312697344.0000 - mae: 342361.5625 - val_loss: 524322406400.0000 - val_mae: 297491.6250\n",
      "Epoch 16/75\n",
      "452/452 [==============================] - 3s 6ms/step - loss: 838605864960.0000 - mae: 343156.0625 - val_loss: 518733955072.0000 - val_mae: 305347.0000\n",
      "Epoch 17/75\n",
      "452/452 [==============================] - 2s 6ms/step - loss: 857543933952.0000 - mae: 344356.2188 - val_loss: 526780563456.0000 - val_mae: 280174.1562\n",
      "Epoch 18/75\n",
      "452/452 [==============================] - 3s 7ms/step - loss: 942259634176.0000 - mae: 345400.9688 - val_loss: 519771062272.0000 - val_mae: 277655.1250\n",
      "Epoch 19/75\n",
      "452/452 [==============================] - 3s 7ms/step - loss: 922443055104.0000 - mae: 341839.3125 - val_loss: 505287868416.0000 - val_mae: 280208.2812\n",
      "Epoch 20/75\n",
      "452/452 [==============================] - 3s 6ms/step - loss: 719760130048.0000 - mae: 321453.5000 - val_loss: 542037082112.0000 - val_mae: 274623.9062\n",
      "Epoch 21/75\n",
      "452/452 [==============================] - 2s 5ms/step - loss: 839439810560.0000 - mae: 333554.9375 - val_loss: 466015780864.0000 - val_mae: 268582.4375\n",
      "Epoch 22/75\n",
      "452/452 [==============================] - 2s 5ms/step - loss: 842321756160.0000 - mae: 329042.4062 - val_loss: 457708765184.0000 - val_mae: 267722.1250\n",
      "Epoch 23/75\n",
      "452/452 [==============================] - 2s 5ms/step - loss: 772859035648.0000 - mae: 321996.8125 - val_loss: 1202027102208.0000 - val_mae: 374081.4375\n",
      "Epoch 24/75\n",
      "452/452 [==============================] - 2s 5ms/step - loss: 938473095168.0000 - mae: 339589.7812 - val_loss: 838528598016.0000 - val_mae: 348607.9688\n",
      "Epoch 25/75\n",
      "452/452 [==============================] - 3s 6ms/step - loss: 921396117504.0000 - mae: 337543.4688 - val_loss: 452822925312.0000 - val_mae: 259266.3438\n",
      "Epoch 26/75\n",
      "452/452 [==============================] - 3s 6ms/step - loss: 838739034112.0000 - mae: 319778.3125 - val_loss: 469499707392.0000 - val_mae: 260102.1406\n",
      "Epoch 27/75\n",
      "452/452 [==============================] - 3s 7ms/step - loss: 968942944256.0000 - mae: 335729.9375 - val_loss: 504333238272.0000 - val_mae: 269499.1250\n",
      "Epoch 28/75\n",
      "452/452 [==============================] - 3s 7ms/step - loss: 927578914816.0000 - mae: 324519.0312 - val_loss: 756279148544.0000 - val_mae: 298051.5312\n",
      "Epoch 29/75\n",
      "452/452 [==============================] - 3s 7ms/step - loss: 760853233664.0000 - mae: 314550.9688 - val_loss: 491189403648.0000 - val_mae: 253823.0625\n",
      "Epoch 30/75\n",
      "452/452 [==============================] - 3s 7ms/step - loss: 697617809408.0000 - mae: 306697.8438 - val_loss: 493657128960.0000 - val_mae: 266607.2188\n",
      "Epoch 31/75\n",
      "452/452 [==============================] - 3s 6ms/step - loss: 776865447936.0000 - mae: 308805.1250 - val_loss: 555393089536.0000 - val_mae: 261081.7969\n",
      "Epoch 32/75\n",
      "452/452 [==============================] - 3s 6ms/step - loss: 736814759936.0000 - mae: 305534.6250 - val_loss: 431559245824.0000 - val_mae: 246211.3281\n",
      "Epoch 33/75\n",
      "452/452 [==============================] - 2s 5ms/step - loss: 775650082816.0000 - mae: 309214.8125 - val_loss: 608002637824.0000 - val_mae: 293019.2500\n",
      "Epoch 34/75\n",
      "452/452 [==============================] - 2s 5ms/step - loss: 856277909504.0000 - mae: 306776.5312 - val_loss: 419314860032.0000 - val_mae: 243972.9219\n",
      "Epoch 35/75\n",
      "452/452 [==============================] - 3s 6ms/step - loss: 774613434368.0000 - mae: 303079.3125 - val_loss: 523486625792.0000 - val_mae: 281982.1250\n",
      "Epoch 36/75\n",
      "452/452 [==============================] - 3s 6ms/step - loss: 898119565312.0000 - mae: 309686.5625 - val_loss: 416698761216.0000 - val_mae: 238486.0000\n",
      "Epoch 37/75\n",
      "452/452 [==============================] - 3s 6ms/step - loss: 789570912256.0000 - mae: 297199.1562 - val_loss: 782456651776.0000 - val_mae: 310928.2500\n",
      "Epoch 38/75\n",
      "452/452 [==============================] - 2s 5ms/step - loss: 902260260864.0000 - mae: 315106.6250 - val_loss: 417735311360.0000 - val_mae: 234557.1094\n",
      "Epoch 39/75\n",
      "452/452 [==============================] - 2s 5ms/step - loss: 914916376576.0000 - mae: 312681.2812 - val_loss: 2002794840064.0000 - val_mae: 467484.3750\n",
      "Epoch 40/75\n",
      "452/452 [==============================] - 3s 6ms/step - loss: 854620962816.0000 - mae: 303929.8750 - val_loss: 590635991040.0000 - val_mae: 270847.4375\n",
      "Epoch 41/75\n",
      "452/452 [==============================] - 3s 6ms/step - loss: 773739249664.0000 - mae: 296159.5938 - val_loss: 406758555648.0000 - val_mae: 234600.4375\n",
      "Epoch 42/75\n",
      "452/452 [==============================] - 2s 5ms/step - loss: 804827365376.0000 - mae: 302022.2188 - val_loss: 806095945728.0000 - val_mae: 285112.3438\n",
      "Epoch 43/75\n",
      "452/452 [==============================] - 3s 6ms/step - loss: 850707218432.0000 - mae: 305309.3125 - val_loss: 397864697856.0000 - val_mae: 230082.1406\n",
      "Epoch 44/75\n",
      "452/452 [==============================] - 2s 5ms/step - loss: 824466079744.0000 - mae: 297624.7500 - val_loss: 1386025713664.0000 - val_mae: 366453.6875\n",
      "Epoch 45/75\n",
      "452/452 [==============================] - 2s 5ms/step - loss: 909154123776.0000 - mae: 312717.1875 - val_loss: 426527457280.0000 - val_mae: 238286.6250\n",
      "Epoch 46/75\n",
      "452/452 [==============================] - 2s 5ms/step - loss: 745937371136.0000 - mae: 290470.2500 - val_loss: 427920588800.0000 - val_mae: 248332.7969\n",
      "Epoch 47/75\n",
      "452/452 [==============================] - 3s 6ms/step - loss: 654603649024.0000 - mae: 291184.5625 - val_loss: 431019982848.0000 - val_mae: 241900.0938\n",
      "Epoch 48/75\n",
      "452/452 [==============================] - 3s 6ms/step - loss: 688119611392.0000 - mae: 286514.9688 - val_loss: 528862052352.0000 - val_mae: 255309.4219\n",
      "Epoch 49/75\n",
      "452/452 [==============================] - 3s 7ms/step - loss: 783960309760.0000 - mae: 299137.1250 - val_loss: 434555289600.0000 - val_mae: 229140.5000\n",
      "Epoch 50/75\n",
      "452/452 [==============================] - 3s 6ms/step - loss: 812309938176.0000 - mae: 299587.0625 - val_loss: 496129015808.0000 - val_mae: 234848.8594\n",
      "Epoch 51/75\n",
      "452/452 [==============================] - 3s 6ms/step - loss: 725632417792.0000 - mae: 288664.7188 - val_loss: 408116199424.0000 - val_mae: 231973.5781\n",
      "Epoch 52/75\n",
      "452/452 [==============================] - 2s 5ms/step - loss: 804386439168.0000 - mae: 291999.5000 - val_loss: 1277060055040.0000 - val_mae: 368162.9688\n",
      "Epoch 53/75\n",
      "452/452 [==============================] - 3s 6ms/step - loss: 919937155072.0000 - mae: 303940.3438 - val_loss: 599415914496.0000 - val_mae: 263751.0000\n",
      "Epoch 54/75\n",
      "452/452 [==============================] - 2s 5ms/step - loss: 891567669248.0000 - mae: 299505.5312 - val_loss: 476429287424.0000 - val_mae: 229871.9844\n",
      "Epoch 55/75\n",
      "452/452 [==============================] - 3s 6ms/step - loss: 737511997440.0000 - mae: 292648.7188 - val_loss: 420057776128.0000 - val_mae: 224962.7812\n",
      "Epoch 56/75\n",
      "452/452 [==============================] - 3s 6ms/step - loss: 816782573568.0000 - mae: 296726.7188 - val_loss: 849999691776.0000 - val_mae: 294749.7188\n",
      "Epoch 57/75\n",
      "452/452 [==============================] - 3s 6ms/step - loss: 961937145856.0000 - mae: 299949.5000 - val_loss: 420517675008.0000 - val_mae: 249325.4375\n",
      "Epoch 58/75\n",
      "452/452 [==============================] - 3s 6ms/step - loss: 899944415232.0000 - mae: 296348.3438 - val_loss: 417809399808.0000 - val_mae: 231523.9375\n",
      "Epoch 59/75\n",
      "452/452 [==============================] - 3s 6ms/step - loss: 777895870464.0000 - mae: 285159.1875 - val_loss: 411162869760.0000 - val_mae: 250571.2500\n",
      "Epoch 60/75\n",
      "452/452 [==============================] - 3s 6ms/step - loss: 702007803904.0000 - mae: 289092.8750 - val_loss: 382675845120.0000 - val_mae: 224312.3594\n",
      "Epoch 61/75\n",
      "452/452 [==============================] - 3s 7ms/step - loss: 1038050656256.0000 - mae: 309572.5938 - val_loss: 471040557056.0000 - val_mae: 271929.6250\n",
      "Epoch 62/75\n",
      "452/452 [==============================] - 3s 8ms/step - loss: 878784937984.0000 - mae: 292751.5938 - val_loss: 377112592384.0000 - val_mae: 221248.7656\n",
      "Epoch 63/75\n",
      "452/452 [==============================] - 3s 6ms/step - loss: 810492887040.0000 - mae: 288395.9375 - val_loss: 416246038528.0000 - val_mae: 229806.0781\n",
      "Epoch 64/75\n",
      "452/452 [==============================] - 3s 6ms/step - loss: 801319026688.0000 - mae: 289959.3438 - val_loss: 395294081024.0000 - val_mae: 230226.3906\n",
      "Epoch 65/75\n",
      "452/452 [==============================] - 3s 6ms/step - loss: 701457629184.0000 - mae: 280972.0000 - val_loss: 911544614912.0000 - val_mae: 268686.7812\n",
      "Epoch 66/75\n",
      "452/452 [==============================] - 3s 6ms/step - loss: 961350270976.0000 - mae: 299454.3125 - val_loss: 417123237888.0000 - val_mae: 227741.8906\n",
      "Epoch 67/75\n",
      "452/452 [==============================] - 3s 7ms/step - loss: 700534816768.0000 - mae: 281634.4688 - val_loss: 380535308288.0000 - val_mae: 222173.8906\n",
      "Epoch 68/75\n",
      "452/452 [==============================] - 3s 6ms/step - loss: 779073486848.0000 - mae: 284109.5625 - val_loss: 524328337408.0000 - val_mae: 248786.8438\n",
      "Epoch 69/75\n",
      "452/452 [==============================] - 2s 5ms/step - loss: 893852254208.0000 - mae: 298861.9375 - val_loss: 444778577920.0000 - val_mae: 227703.3125\n",
      "Epoch 70/75\n",
      "452/452 [==============================] - 3s 7ms/step - loss: 671791579136.0000 - mae: 280689.2500 - val_loss: 385467973632.0000 - val_mae: 220636.3438\n",
      "Epoch 71/75\n",
      "452/452 [==============================] - 3s 6ms/step - loss: 920992940032.0000 - mae: 293295.0938 - val_loss: 487879213056.0000 - val_mae: 262714.6250\n",
      "Epoch 72/75\n",
      "452/452 [==============================] - 3s 6ms/step - loss: 696293982208.0000 - mae: 277599.8438 - val_loss: 413252059136.0000 - val_mae: 222018.3281\n",
      "Epoch 73/75\n",
      "452/452 [==============================] - 3s 6ms/step - loss: 628938440704.0000 - mae: 270446.1562 - val_loss: 636553265152.0000 - val_mae: 267429.9062\n",
      "Epoch 74/75\n",
      "452/452 [==============================] - 2s 5ms/step - loss: 785544511488.0000 - mae: 283089.9375 - val_loss: 435402342400.0000 - val_mae: 232475.1875\n",
      "Epoch 75/75\n",
      "452/452 [==============================] - 3s 6ms/step - loss: 737545486336.0000 - mae: 286158.8125 - val_loss: 393685565440.0000 - val_mae: 220378.9531\n"
     ]
    }
   ],
   "source": [
    "history = model.fit(X_train_scaled, y_train, epochs=75, batch_size=32, validation_data=(X_test_scaled, y_test))"
   ]
  },
  {
   "cell_type": "code",
   "execution_count": 11,
   "metadata": {},
   "outputs": [
    {
     "name": "stdout",
     "output_type": "stream",
     "text": [
      "113/113 [==============================] - 0s 3ms/step - loss: 393685565440.0000 - mae: 220378.9531\n",
      "Loss: 393685565440.0, MAE: 220378.953125\n"
     ]
    }
   ],
   "source": [
    "loss, mae = model.evaluate(X_test_scaled, y_test)\n",
    "print(f'Loss: {loss}, MAE: {mae}')"
   ]
  },
  {
   "cell_type": "code",
   "execution_count": 12,
   "metadata": {},
   "outputs": [
    {
     "name": "stdout",
     "output_type": "stream",
     "text": [
      "113/113 [==============================] - 1s 3ms/step\n",
      "Predicción: [1171605.], Valor real: 1300000.0\n",
      "Predicción: [326594.12], Valor real: 325000.0\n",
      "Predicción: [678925.5], Valor real: 750000.0\n",
      "Predicción: [1379098.2], Valor real: 1300000.0\n",
      "Predicción: [1875576.6], Valor real: 1800000.0\n",
      "Predicción: [449312.3], Valor real: 450000.0\n",
      "Predicción: [1245533.4], Valor real: 1300000.0\n",
      "Predicción: [9969118.], Valor real: 9500000.0\n",
      "Predicción: [4388105.], Valor real: 4000000.0\n",
      "Predicción: [208830.44], Valor real: 210000.0\n"
     ]
    }
   ],
   "source": [
    "predictions = model.predict(X_test_scaled)\n",
    "\n",
    "ultimas_cinco_predicciones = predictions[-10:]\n",
    "valores_reales = y_test[-10:]\n",
    "\n",
    "for i in range(len(ultimas_cinco_predicciones)):\n",
    "    print(f\"Predicción: {ultimas_cinco_predicciones[i]}, Valor real: {valores_reales.iloc[i]}\")"
   ]
  },
  {
   "cell_type": "code",
   "execution_count": 13,
   "metadata": {},
   "outputs": [
    {
     "data": {
      "image/png": "[encoded data removed]",
      "text/plain": [
       "<Figure size 640x480 with 1 Axes>"
      ]
     },
     "metadata": {},
     "output_type": "display_data"
    }
   ],
   "source": [
    "loss = history.history['loss']\n",
    "val_loss = history.history['val_loss']\n",
    "\n",
    "epochs = range(1, len(loss) + 1)\n",
    "\n",
    "plt.plot(epochs, loss, 'bo', label='Training loss')\n",
    "plt.plot(epochs, val_loss, 'b', label='Validation loss')\n",
    "plt.title('Training and validation loss')\n",
    "plt.xlabel('Epochs')\n",
    "plt.ylabel('Loss')\n",
    "plt.legend()\n",
    "\n",
    "plt.show()\n"
   ]
  },
  {
   "cell_type": "code",
   "execution_count": null,
   "metadata": {},
   "outputs": [],
   "source": []
  },
  {
   "cell_type": "code",
   "execution_count": null,
   "metadata": {},
   "outputs": [],
   "source": []
  }
 ],
 "metadata": {
  "kernelspec": {
   "display_name": "Python 3",
   "language": "python",
   "name": "python3"
  },
  "language_info": {
   "codemirror_mode": {
    "name": "ipython",
    "version": 3
   },
   "file_extension": ".py",
   "mimetype": "text/x-python",
   "name": "python",
   "nbconvert_exporter": "python",
   "pygments_lexer": "ipython3",
   "version": "3.11.7"
  }
 },
 "nbformat": 4,
 "nbformat_minor": 2
}
