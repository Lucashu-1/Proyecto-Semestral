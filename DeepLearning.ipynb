{
 "cells": [
  {
   "cell_type": "code",
   "execution_count": 1,
   "metadata": {},
   "outputs": [
    {
     "name": "stdout",
     "output_type": "stream",
     "text": [
      "WARNING:tensorflow:From C:\\Users\\herna\\AppData\\Local\\Packages\\PythonSoftwareFoundation.Python.3.11_qbz5n2kfra8p0\\LocalCache\\local-packages\\Python311\\site-packages\\keras\\src\\losses.py:2976: The name tf.losses.sparse_softmax_cross_entropy is deprecated. Please use tf.compat.v1.losses.sparse_softmax_cross_entropy instead.\n",
      "\n"
     ]
    }
   ],
   "source": [
    "import pandas as pd\n",
    "from sklearn.model_selection import train_test_split\n",
    "from sklearn.model_selection import cross_val_score\n",
    "from sklearn.preprocessing import StandardScaler\n",
    "import tensorflow as tf\n",
    "from keras.models import Sequential\n",
    "from keras.layers import Dense, Dropout \n",
    "import matplotlib.pyplot as plt"
   ]
  },
  {
   "cell_type": "code",
   "execution_count": 2,
   "metadata": {},
   "outputs": [
    {
     "name": "stderr",
     "output_type": "stream",
     "text": [
      "C:\\Users\\herna\\AppData\\Local\\Temp\\ipykernel_6312\\2231276672.py:1: DtypeWarning: Columns (25,108) have mixed types. Specify dtype option on import or set low_memory=False.\n",
      "  fifa = pd.read_csv('./players_22.csv')\n"
     ]
    }
   ],
   "source": [
    "fifa = pd.read_csv('./players_22.csv')"
   ]
  },
  {
   "cell_type": "code",
   "execution_count": 3,
   "metadata": {},
   "outputs": [],
   "source": [
    "columnas_a_eliminar = [\"player_face_url\", \"club_logo_url\", \"club_flag_url\", \"nation_logo_url\",\"pace\",\"mentality_aggression\",\"mentality_composure\",\"mentality_vision\",\"mentality_penalties\",\"mentality_positioning\",\"mentality_interceptions\", \"player_positions\",\"weight_kg\",\"height_cm\",\"nation_flag_url\", \"league_level\",\"sofifa_id\",\"body_type\", \"player_url\", \"short_name\", \"dob\", \"real_face\", \"club_jersey_number\", \"nation_jersey_number\", \"preferred_foot\",\"weak_foot\",\"club_loaned_from\", \"club_joined\", \"long_name\", \"league_name\", \"club_team_id\", \"club_name\", \"club_position\", \"nation_team_id\", \"nation_position\", \"nationality_id\", \"nationality_name\", \"club_contract_valid_until\", \"player_tags\", \"player_traits\", \"work_rate\", 'ls', 'st', 'rs', 'lw', 'lf', 'cf', 'rf', 'rw', 'lam', 'cam', 'ram',\n",
    "    'lm', 'lcm', 'cm', 'rcm', 'rm', 'lwb', 'ldm', 'cdm', 'rdm', 'rwb',\n",
    "    'lb', 'lcb', 'cb', 'rcb', 'rb', 'gk', 'attacking_crossing', 'attacking_finishing', 'attacking_heading_accuracy',\n",
    "    'attacking_short_passing', 'attacking_volleys', 'skill_dribbling', 'skill_curve',\n",
    "    'skill_fk_accuracy', 'skill_long_passing', 'skill_ball_control', 'movement_acceleration',\n",
    "    'movement_sprint_speed', 'movement_agility', 'movement_balance',\n",
    "    'power_shot_power', 'power_jumping', 'power_stamina', 'power_strength', 'power_long_shots',\n",
    "    'defending_marking_awareness', 'defending_standing_tackle', 'defending_sliding_tackle',\n",
    "    'goalkeeping_diving', 'goalkeeping_handling', 'goalkeeping_kicking', 'goalkeeping_positioning',\n",
    "    'goalkeeping_reflexes', 'goalkeeping_speed',\"age\",\"skill_moves\",\"physic\",\"shooting\",\"defending\",\"passing\",\"dribbling\",\"movement_reactions\"]\n",
    "fifa_limpio = fifa.drop(columnas_a_eliminar, axis=1)"
   ]
  },
  {
   "cell_type": "code",
   "execution_count": 4,
   "metadata": {},
   "outputs": [
    {
     "name": "stdout",
     "output_type": "stream",
     "text": [
      "Series([], dtype: int64)\n"
     ]
    }
   ],
   "source": [
    "fifa_limpio_no_null = fifa_limpio.dropna()\n",
    "\n",
    "missing_values_after_drop = fifa_limpio_no_null.isnull().sum()\n",
    "print(missing_values_after_drop[missing_values_after_drop > 0])"
   ]
  },
  {
   "cell_type": "code",
   "execution_count": 5,
   "metadata": {},
   "outputs": [
    {
     "data": {
      "text/html": [
       "<div>\n",
       "<style scoped>\n",
       "    .dataframe tbody tr th:only-of-type {\n",
       "        vertical-align: middle;\n",
       "    }\n",
       "\n",
       "    .dataframe tbody tr th {\n",
       "        vertical-align: top;\n",
       "    }\n",
       "\n",
       "    .dataframe thead th {\n",
       "        text-align: right;\n",
       "    }\n",
       "</style>\n",
       "<table border=\"1\" class=\"dataframe\">\n",
       "  <thead>\n",
       "    <tr style=\"text-align: right;\">\n",
       "      <th></th>\n",
       "      <th>overall</th>\n",
       "      <th>potential</th>\n",
       "      <th>value_eur</th>\n",
       "      <th>wage_eur</th>\n",
       "      <th>international_reputation</th>\n",
       "      <th>release_clause_eur</th>\n",
       "    </tr>\n",
       "  </thead>\n",
       "  <tbody>\n",
       "    <tr>\n",
       "      <th>0</th>\n",
       "      <td>93</td>\n",
       "      <td>93</td>\n",
       "      <td>78000000.0</td>\n",
       "      <td>320000.0</td>\n",
       "      <td>5</td>\n",
       "      <td>144300000.0</td>\n",
       "    </tr>\n",
       "    <tr>\n",
       "      <th>1</th>\n",
       "      <td>92</td>\n",
       "      <td>92</td>\n",
       "      <td>119500000.0</td>\n",
       "      <td>270000.0</td>\n",
       "      <td>5</td>\n",
       "      <td>197200000.0</td>\n",
       "    </tr>\n",
       "    <tr>\n",
       "      <th>2</th>\n",
       "      <td>91</td>\n",
       "      <td>91</td>\n",
       "      <td>45000000.0</td>\n",
       "      <td>270000.0</td>\n",
       "      <td>5</td>\n",
       "      <td>83300000.0</td>\n",
       "    </tr>\n",
       "    <tr>\n",
       "      <th>3</th>\n",
       "      <td>91</td>\n",
       "      <td>91</td>\n",
       "      <td>129000000.0</td>\n",
       "      <td>270000.0</td>\n",
       "      <td>5</td>\n",
       "      <td>238700000.0</td>\n",
       "    </tr>\n",
       "    <tr>\n",
       "      <th>4</th>\n",
       "      <td>91</td>\n",
       "      <td>91</td>\n",
       "      <td>125500000.0</td>\n",
       "      <td>350000.0</td>\n",
       "      <td>4</td>\n",
       "      <td>232200000.0</td>\n",
       "    </tr>\n",
       "    <tr>\n",
       "      <th>...</th>\n",
       "      <td>...</td>\n",
       "      <td>...</td>\n",
       "      <td>...</td>\n",
       "      <td>...</td>\n",
       "      <td>...</td>\n",
       "      <td>...</td>\n",
       "    </tr>\n",
       "    <tr>\n",
       "      <th>19234</th>\n",
       "      <td>47</td>\n",
       "      <td>52</td>\n",
       "      <td>70000.0</td>\n",
       "      <td>1000.0</td>\n",
       "      <td>1</td>\n",
       "      <td>114000.0</td>\n",
       "    </tr>\n",
       "    <tr>\n",
       "      <th>19235</th>\n",
       "      <td>47</td>\n",
       "      <td>59</td>\n",
       "      <td>110000.0</td>\n",
       "      <td>500.0</td>\n",
       "      <td>1</td>\n",
       "      <td>193000.0</td>\n",
       "    </tr>\n",
       "    <tr>\n",
       "      <th>19236</th>\n",
       "      <td>47</td>\n",
       "      <td>55</td>\n",
       "      <td>100000.0</td>\n",
       "      <td>500.0</td>\n",
       "      <td>1</td>\n",
       "      <td>175000.0</td>\n",
       "    </tr>\n",
       "    <tr>\n",
       "      <th>19237</th>\n",
       "      <td>47</td>\n",
       "      <td>60</td>\n",
       "      <td>110000.0</td>\n",
       "      <td>500.0</td>\n",
       "      <td>1</td>\n",
       "      <td>239000.0</td>\n",
       "    </tr>\n",
       "    <tr>\n",
       "      <th>19238</th>\n",
       "      <td>47</td>\n",
       "      <td>60</td>\n",
       "      <td>110000.0</td>\n",
       "      <td>500.0</td>\n",
       "      <td>1</td>\n",
       "      <td>217000.0</td>\n",
       "    </tr>\n",
       "  </tbody>\n",
       "</table>\n",
       "<p>18063 rows × 6 columns</p>\n",
       "</div>"
      ],
      "text/plain": [
       "       overall  potential    value_eur  wage_eur  international_reputation  \\\n",
       "0           93         93   78000000.0  320000.0                         5   \n",
       "1           92         92  119500000.0  270000.0                         5   \n",
       "2           91         91   45000000.0  270000.0                         5   \n",
       "3           91         91  129000000.0  270000.0                         5   \n",
       "4           91         91  125500000.0  350000.0                         4   \n",
       "...        ...        ...          ...       ...                       ...   \n",
       "19234       47         52      70000.0    1000.0                         1   \n",
       "19235       47         59     110000.0     500.0                         1   \n",
       "19236       47         55     100000.0     500.0                         1   \n",
       "19237       47         60     110000.0     500.0                         1   \n",
       "19238       47         60     110000.0     500.0                         1   \n",
       "\n",
       "       release_clause_eur  \n",
       "0             144300000.0  \n",
       "1             197200000.0  \n",
       "2              83300000.0  \n",
       "3             238700000.0  \n",
       "4             232200000.0  \n",
       "...                   ...  \n",
       "19234            114000.0  \n",
       "19235            193000.0  \n",
       "19236            175000.0  \n",
       "19237            239000.0  \n",
       "19238            217000.0  \n",
       "\n",
       "[18063 rows x 6 columns]"
      ]
     },
     "execution_count": 5,
     "metadata": {},
     "output_type": "execute_result"
    }
   ],
   "source": [
    "fifa_limpio_no_null"
   ]
  },
  {
   "cell_type": "code",
   "execution_count": 6,
   "metadata": {},
   "outputs": [
    {
     "name": "stdout",
     "output_type": "stream",
     "text": [
      "Número de características (features): 5\n"
     ]
    }
   ],
   "source": [
    "num_features = fifa_limpio_no_null.shape[1] - 1  \n",
    "\n",
    "print(\"Número de características (features):\", num_features)"
   ]
  },
  {
   "cell_type": "code",
   "execution_count": 7,
   "metadata": {},
   "outputs": [],
   "source": [
    "X = fifa_limpio_no_null.drop('value_eur', axis=1)\n",
    "y = fifa_limpio_no_null['value_eur']\n",
    "\n",
    "X_train, X_test, y_train, y_test = train_test_split(X, y, test_size=0.2, random_state=42)"
   ]
  },
  {
   "cell_type": "code",
   "execution_count": 8,
   "metadata": {},
   "outputs": [],
   "source": [
    "scaler = StandardScaler()\n",
    "X_train_scaled = scaler.fit_transform(X_train)\n",
    "X_test_scaled = scaler.transform(X_test)"
   ]
  },
  {
   "cell_type": "code",
   "execution_count": 9,
   "metadata": {},
   "outputs": [
    {
     "name": "stdout",
     "output_type": "stream",
     "text": [
      "WARNING:tensorflow:From C:\\Users\\herna\\AppData\\Local\\Packages\\PythonSoftwareFoundation.Python.3.11_qbz5n2kfra8p0\\LocalCache\\local-packages\\Python311\\site-packages\\keras\\src\\backend.py:873: The name tf.get_default_graph is deprecated. Please use tf.compat.v1.get_default_graph instead.\n",
      "\n",
      "WARNING:tensorflow:From C:\\Users\\herna\\AppData\\Local\\Packages\\PythonSoftwareFoundation.Python.3.11_qbz5n2kfra8p0\\LocalCache\\local-packages\\Python311\\site-packages\\keras\\src\\optimizers\\__init__.py:309: The name tf.train.Optimizer is deprecated. Please use tf.compat.v1.train.Optimizer instead.\n",
      "\n"
     ]
    }
   ],
   "source": [
    "model = Sequential()\n",
    "model.add(Dense(128, activation='relu', input_shape=(num_features,)))\n",
    "model.add(Dense(256, activation='relu'))\n",
    "model.add(Dropout(0.1))\n",
    "model.add(Dense(128, activation='relu'))\n",
    "model.add(Dropout(0.1))\n",
    "model.add(Dense(64, activation='relu'))\n",
    "model.add(Dropout(0.1))\n",
    "model.add(Dense(32, activation='relu'))\n",
    "model.add(Dense(16, activation='relu'))\n",
    "model.add(Dense(1, activation='linear'))\n",
    "\n",
    "model.compile(optimizer='adam', loss='mean_squared_error', metrics=['mae'])"
   ]
  },
  {
   "cell_type": "code",
   "execution_count": 10,
   "metadata": {},
   "outputs": [
    {
     "name": "stdout",
     "output_type": "stream",
     "text": [
      "Epoch 1/100\n",
      "WARNING:tensorflow:From C:\\Users\\herna\\AppData\\Local\\Packages\\PythonSoftwareFoundation.Python.3.11_qbz5n2kfra8p0\\LocalCache\\local-packages\\Python311\\site-packages\\keras\\src\\utils\\tf_utils.py:492: The name tf.ragged.RaggedTensorValue is deprecated. Please use tf.compat.v1.ragged.RaggedTensorValue instead.\n",
      "\n",
      "WARNING:tensorflow:From C:\\Users\\herna\\AppData\\Local\\Packages\\PythonSoftwareFoundation.Python.3.11_qbz5n2kfra8p0\\LocalCache\\local-packages\\Python311\\site-packages\\keras\\src\\engine\\base_layer_utils.py:384: The name tf.executing_eagerly_outside_functions is deprecated. Please use tf.compat.v1.executing_eagerly_outside_functions instead.\n",
      "\n",
      "452/452 [==============================] - 5s 6ms/step - loss: 29141510389760.0000 - mae: 1763163.1250 - val_loss: 5270639476736.0000 - val_mae: 953434.6875\n",
      "Epoch 2/100\n",
      "452/452 [==============================] - 2s 5ms/step - loss: 4228142333952.0000 - mae: 796477.0000 - val_loss: 2820546756608.0000 - val_mae: 624841.0625\n",
      "Epoch 3/100\n",
      "452/452 [==============================] - 2s 5ms/step - loss: 1702978912256.0000 - mae: 501058.2812 - val_loss: 1066079354880.0000 - val_mae: 390607.3125\n",
      "Epoch 4/100\n",
      "452/452 [==============================] - 2s 5ms/step - loss: 1231920431104.0000 - mae: 416313.3750 - val_loss: 666191396864.0000 - val_mae: 336812.7812\n",
      "Epoch 5/100\n",
      "452/452 [==============================] - 2s 5ms/step - loss: 960785678336.0000 - mae: 374083.6562 - val_loss: 749064945664.0000 - val_mae: 335793.6250\n",
      "Epoch 6/100\n",
      "452/452 [==============================] - 3s 6ms/step - loss: 932483825664.0000 - mae: 355120.0312 - val_loss: 1052458024960.0000 - val_mae: 368457.7188\n",
      "Epoch 7/100\n",
      "452/452 [==============================] - 2s 5ms/step - loss: 1050687242240.0000 - mae: 346320.3750 - val_loss: 507623407616.0000 - val_mae: 290254.7500\n",
      "Epoch 8/100\n",
      "452/452 [==============================] - 2s 5ms/step - loss: 926024531968.0000 - mae: 334251.5000 - val_loss: 850466177024.0000 - val_mae: 303128.1562\n",
      "Epoch 9/100\n",
      "452/452 [==============================] - 2s 5ms/step - loss: 958077468672.0000 - mae: 334496.6875 - val_loss: 535597481984.0000 - val_mae: 288978.8438\n",
      "Epoch 10/100\n",
      "452/452 [==============================] - 3s 6ms/step - loss: 843714068480.0000 - mae: 321207.2500 - val_loss: 509546627072.0000 - val_mae: 267150.0000\n",
      "Epoch 11/100\n",
      "452/452 [==============================] - 3s 6ms/step - loss: 982869999616.0000 - mae: 324259.9375 - val_loss: 563231588352.0000 - val_mae: 270748.5312\n",
      "Epoch 12/100\n",
      "452/452 [==============================] - 2s 5ms/step - loss: 871608680448.0000 - mae: 317208.1562 - val_loss: 483976019968.0000 - val_mae: 256909.6875\n",
      "Epoch 13/100\n",
      "452/452 [==============================] - 2s 5ms/step - loss: 871603896320.0000 - mae: 312337.6875 - val_loss: 481650475008.0000 - val_mae: 254645.2812\n",
      "Epoch 14/100\n",
      "452/452 [==============================] - 3s 6ms/step - loss: 847755411456.0000 - mae: 311304.5312 - val_loss: 441937756160.0000 - val_mae: 250829.3281\n",
      "Epoch 15/100\n",
      "452/452 [==============================] - 2s 5ms/step - loss: 688298590208.0000 - mae: 291817.6562 - val_loss: 443403304960.0000 - val_mae: 245724.5938\n",
      "Epoch 16/100\n",
      "452/452 [==============================] - 2s 5ms/step - loss: 814955233280.0000 - mae: 306531.3125 - val_loss: 850818498560.0000 - val_mae: 291684.6250\n",
      "Epoch 17/100\n",
      "452/452 [==============================] - 2s 5ms/step - loss: 885596749824.0000 - mae: 307177.1250 - val_loss: 457212854272.0000 - val_mae: 251349.2344\n",
      "Epoch 18/100\n",
      "452/452 [==============================] - 2s 5ms/step - loss: 693153890304.0000 - mae: 289055.4375 - val_loss: 498766151680.0000 - val_mae: 249515.7344\n",
      "Epoch 19/100\n",
      "452/452 [==============================] - 2s 5ms/step - loss: 852298760192.0000 - mae: 299264.0938 - val_loss: 418396733440.0000 - val_mae: 239920.3750\n",
      "Epoch 20/100\n",
      "452/452 [==============================] - 2s 5ms/step - loss: 768467795968.0000 - mae: 293110.5625 - val_loss: 519091257344.0000 - val_mae: 240030.8906\n",
      "Epoch 21/100\n",
      "452/452 [==============================] - 2s 5ms/step - loss: 659686293504.0000 - mae: 282350.3125 - val_loss: 865174552576.0000 - val_mae: 295025.9688\n",
      "Epoch 22/100\n",
      "452/452 [==============================] - 2s 5ms/step - loss: 842296983552.0000 - mae: 296513.0625 - val_loss: 447330713600.0000 - val_mae: 230488.1094\n",
      "Epoch 23/100\n",
      "452/452 [==============================] - 2s 5ms/step - loss: 775472087040.0000 - mae: 299714.8125 - val_loss: 535257153536.0000 - val_mae: 241243.6094\n",
      "Epoch 24/100\n",
      "452/452 [==============================] - 2s 5ms/step - loss: 896126746624.0000 - mae: 307004.7812 - val_loss: 470861053952.0000 - val_mae: 245107.1875\n",
      "Epoch 25/100\n",
      "452/452 [==============================] - 2s 5ms/step - loss: 926631854080.0000 - mae: 305631.5938 - val_loss: 820993261568.0000 - val_mae: 277503.7812\n",
      "Epoch 26/100\n",
      "452/452 [==============================] - 2s 5ms/step - loss: 722176638976.0000 - mae: 284727.4062 - val_loss: 416031899648.0000 - val_mae: 237889.7969\n",
      "Epoch 27/100\n",
      "452/452 [==============================] - 2s 5ms/step - loss: 743819247616.0000 - mae: 292428.4062 - val_loss: 805112840192.0000 - val_mae: 270333.3125\n",
      "Epoch 28/100\n",
      "452/452 [==============================] - 2s 5ms/step - loss: 928466337792.0000 - mae: 300811.9062 - val_loss: 396410224640.0000 - val_mae: 228734.5938\n",
      "Epoch 29/100\n",
      "452/452 [==============================] - 2s 5ms/step - loss: 958400299008.0000 - mae: 305629.0000 - val_loss: 393543319552.0000 - val_mae: 225007.4375\n",
      "Epoch 30/100\n",
      "452/452 [==============================] - 2s 5ms/step - loss: 773145886720.0000 - mae: 287901.8750 - val_loss: 395022729216.0000 - val_mae: 227242.5000\n",
      "Epoch 31/100\n",
      "452/452 [==============================] - 2s 5ms/step - loss: 958413537280.0000 - mae: 309214.5625 - val_loss: 775663386624.0000 - val_mae: 279293.0000\n",
      "Epoch 32/100\n",
      "452/452 [==============================] - 2s 5ms/step - loss: 914454806528.0000 - mae: 296511.9688 - val_loss: 406526656512.0000 - val_mae: 225123.9375\n",
      "Epoch 33/100\n",
      "452/452 [==============================] - 2s 5ms/step - loss: 813024673792.0000 - mae: 290442.5000 - val_loss: 388641849344.0000 - val_mae: 219835.6094\n",
      "Epoch 34/100\n",
      "452/452 [==============================] - 2s 5ms/step - loss: 880397320192.0000 - mae: 298940.1875 - val_loss: 490927357952.0000 - val_mae: 233043.8281\n",
      "Epoch 35/100\n",
      "452/452 [==============================] - 2s 5ms/step - loss: 768085393408.0000 - mae: 289615.2812 - val_loss: 459870109696.0000 - val_mae: 240082.6562\n",
      "Epoch 36/100\n",
      "452/452 [==============================] - 2s 5ms/step - loss: 730701299712.0000 - mae: 287769.3750 - val_loss: 399388934144.0000 - val_mae: 240828.4688\n",
      "Epoch 37/100\n",
      "452/452 [==============================] - 2s 5ms/step - loss: 868084547584.0000 - mae: 290283.4375 - val_loss: 531105120256.0000 - val_mae: 235095.2812\n",
      "Epoch 38/100\n",
      "452/452 [==============================] - 2s 5ms/step - loss: 827803435008.0000 - mae: 289394.2500 - val_loss: 386268102656.0000 - val_mae: 226718.6875\n",
      "Epoch 39/100\n",
      "452/452 [==============================] - 2s 5ms/step - loss: 756404125696.0000 - mae: 289184.7500 - val_loss: 387552935936.0000 - val_mae: 225100.6719\n",
      "Epoch 40/100\n",
      "452/452 [==============================] - 2s 5ms/step - loss: 824853135360.0000 - mae: 291492.5625 - val_loss: 485505794048.0000 - val_mae: 237652.7188\n",
      "Epoch 41/100\n",
      "452/452 [==============================] - 2s 5ms/step - loss: 811453644800.0000 - mae: 291463.0312 - val_loss: 392759410688.0000 - val_mae: 226396.5156\n",
      "Epoch 42/100\n",
      "452/452 [==============================] - 3s 6ms/step - loss: 642979397632.0000 - mae: 273256.8125 - val_loss: 443940569088.0000 - val_mae: 232424.6875\n",
      "Epoch 43/100\n",
      "452/452 [==============================] - 2s 5ms/step - loss: 692366540800.0000 - mae: 285599.4375 - val_loss: 378390347776.0000 - val_mae: 221563.9219\n",
      "Epoch 44/100\n",
      "452/452 [==============================] - 3s 6ms/step - loss: 787970850816.0000 - mae: 287807.7188 - val_loss: 444299968512.0000 - val_mae: 239638.9219\n",
      "Epoch 45/100\n",
      "452/452 [==============================] - 3s 6ms/step - loss: 827660238848.0000 - mae: 292497.0000 - val_loss: 382971019264.0000 - val_mae: 222771.9219\n",
      "Epoch 46/100\n",
      "452/452 [==============================] - 2s 5ms/step - loss: 821274345472.0000 - mae: 288425.9375 - val_loss: 418136653824.0000 - val_mae: 231799.4375\n",
      "Epoch 47/100\n",
      "452/452 [==============================] - 2s 5ms/step - loss: 885061976064.0000 - mae: 298735.5625 - val_loss: 399312289792.0000 - val_mae: 225550.4375\n",
      "Epoch 48/100\n",
      "452/452 [==============================] - 2s 5ms/step - loss: 674712387584.0000 - mae: 280643.0938 - val_loss: 393650241536.0000 - val_mae: 235875.9062\n",
      "Epoch 49/100\n",
      "452/452 [==============================] - 2s 5ms/step - loss: 779518738432.0000 - mae: 289922.5938 - val_loss: 403064979456.0000 - val_mae: 234786.5469\n",
      "Epoch 50/100\n",
      "452/452 [==============================] - 2s 5ms/step - loss: 715835310080.0000 - mae: 283348.7812 - val_loss: 418576433152.0000 - val_mae: 224561.2812\n",
      "Epoch 51/100\n",
      "452/452 [==============================] - 2s 5ms/step - loss: 905122873344.0000 - mae: 295802.1562 - val_loss: 381674455040.0000 - val_mae: 220578.8750\n",
      "Epoch 52/100\n",
      "452/452 [==============================] - 2s 5ms/step - loss: 641343291392.0000 - mae: 270037.4062 - val_loss: 912864509952.0000 - val_mae: 286085.6562\n",
      "Epoch 53/100\n",
      "452/452 [==============================] - 3s 6ms/step - loss: 813331513344.0000 - mae: 302493.0625 - val_loss: 392394932224.0000 - val_mae: 222930.6719\n",
      "Epoch 54/100\n",
      "452/452 [==============================] - 2s 5ms/step - loss: 748324126720.0000 - mae: 278950.6250 - val_loss: 492443992064.0000 - val_mae: 237664.2969\n",
      "Epoch 55/100\n",
      "452/452 [==============================] - 2s 5ms/step - loss: 789089157120.0000 - mae: 283823.0312 - val_loss: 415563120640.0000 - val_mae: 225046.0781\n",
      "Epoch 56/100\n",
      "452/452 [==============================] - 2s 5ms/step - loss: 722481840128.0000 - mae: 273647.3438 - val_loss: 419938762752.0000 - val_mae: 258127.8125\n",
      "Epoch 57/100\n",
      "452/452 [==============================] - 2s 5ms/step - loss: 606844682240.0000 - mae: 273809.0312 - val_loss: 411923349504.0000 - val_mae: 222683.7812\n",
      "Epoch 58/100\n",
      "452/452 [==============================] - 2s 5ms/step - loss: 731873804288.0000 - mae: 279086.5938 - val_loss: 393372139520.0000 - val_mae: 216026.6094\n",
      "Epoch 59/100\n",
      "452/452 [==============================] - 2s 5ms/step - loss: 835727917056.0000 - mae: 287321.5938 - val_loss: 389438636032.0000 - val_mae: 220582.0000\n",
      "Epoch 60/100\n",
      "452/452 [==============================] - 2s 5ms/step - loss: 668488630272.0000 - mae: 278610.0312 - val_loss: 502058057728.0000 - val_mae: 261084.5469\n",
      "Epoch 61/100\n",
      "452/452 [==============================] - 2s 5ms/step - loss: 675045638144.0000 - mae: 284273.2812 - val_loss: 434157584384.0000 - val_mae: 233358.4844\n",
      "Epoch 62/100\n",
      "452/452 [==============================] - 2s 5ms/step - loss: 656951738368.0000 - mae: 276619.4062 - val_loss: 362138566656.0000 - val_mae: 210503.8750\n",
      "Epoch 63/100\n",
      "452/452 [==============================] - 2s 5ms/step - loss: 786170642432.0000 - mae: 283222.5000 - val_loss: 369261641728.0000 - val_mae: 211455.3750\n",
      "Epoch 64/100\n",
      "452/452 [==============================] - 2s 5ms/step - loss: 786768396288.0000 - mae: 289347.8125 - val_loss: 400885284864.0000 - val_mae: 238415.4688\n",
      "Epoch 65/100\n",
      "452/452 [==============================] - 2s 5ms/step - loss: 682149806080.0000 - mae: 275038.6250 - val_loss: 781978632192.0000 - val_mae: 332722.3125\n",
      "Epoch 66/100\n",
      "452/452 [==============================] - 2s 5ms/step - loss: 768209059840.0000 - mae: 279962.6562 - val_loss: 516001824768.0000 - val_mae: 234493.4844\n",
      "Epoch 67/100\n",
      "452/452 [==============================] - 2s 5ms/step - loss: 748078235648.0000 - mae: 279038.0938 - val_loss: 442405879808.0000 - val_mae: 225953.5469\n",
      "Epoch 68/100\n",
      "452/452 [==============================] - 2s 5ms/step - loss: 705021804544.0000 - mae: 276150.5312 - val_loss: 386024964096.0000 - val_mae: 230315.8438\n",
      "Epoch 69/100\n",
      "452/452 [==============================] - 2s 5ms/step - loss: 873195896832.0000 - mae: 287751.1250 - val_loss: 451721035776.0000 - val_mae: 231026.2969\n",
      "Epoch 70/100\n",
      "452/452 [==============================] - 2s 5ms/step - loss: 739573825536.0000 - mae: 280765.5312 - val_loss: 387859447808.0000 - val_mae: 221275.4062\n",
      "Epoch 71/100\n",
      "452/452 [==============================] - 2s 5ms/step - loss: 642950955008.0000 - mae: 266021.0312 - val_loss: 355906355200.0000 - val_mae: 211490.2812\n",
      "Epoch 72/100\n",
      "452/452 [==============================] - 2s 5ms/step - loss: 664970067968.0000 - mae: 267653.6250 - val_loss: 1199818932224.0000 - val_mae: 311319.3750\n",
      "Epoch 73/100\n",
      "452/452 [==============================] - 2s 5ms/step - loss: 774633816064.0000 - mae: 294451.0625 - val_loss: 417151385600.0000 - val_mae: 234908.0938\n",
      "Epoch 74/100\n",
      "452/452 [==============================] - 2s 5ms/step - loss: 917229469696.0000 - mae: 291763.4062 - val_loss: 805437374464.0000 - val_mae: 250620.0781\n",
      "Epoch 75/100\n",
      "452/452 [==============================] - 2s 5ms/step - loss: 689734942720.0000 - mae: 278549.7500 - val_loss: 357342347264.0000 - val_mae: 210490.6719\n",
      "Epoch 76/100\n",
      "452/452 [==============================] - 2s 5ms/step - loss: 736321339392.0000 - mae: 284994.4688 - val_loss: 436365983744.0000 - val_mae: 218440.5781\n",
      "Epoch 77/100\n",
      "452/452 [==============================] - 2s 5ms/step - loss: 661383544832.0000 - mae: 271752.8125 - val_loss: 365137330176.0000 - val_mae: 206164.1094\n",
      "Epoch 78/100\n",
      "452/452 [==============================] - 2s 5ms/step - loss: 695170301952.0000 - mae: 275363.7500 - val_loss: 363670274048.0000 - val_mae: 206172.5312\n",
      "Epoch 79/100\n",
      "452/452 [==============================] - 2s 5ms/step - loss: 680917663744.0000 - mae: 266511.1875 - val_loss: 357918834688.0000 - val_mae: 212843.4062\n",
      "Epoch 80/100\n",
      "452/452 [==============================] - 2s 5ms/step - loss: 768011272192.0000 - mae: 279393.2500 - val_loss: 416771604480.0000 - val_mae: 225792.3594\n",
      "Epoch 81/100\n",
      "452/452 [==============================] - 2s 5ms/step - loss: 722675499008.0000 - mae: 274021.1875 - val_loss: 366922760192.0000 - val_mae: 219704.5781\n",
      "Epoch 82/100\n",
      "452/452 [==============================] - 3s 6ms/step - loss: 851641171968.0000 - mae: 286513.3125 - val_loss: 568008376320.0000 - val_mae: 252859.5938\n",
      "Epoch 83/100\n",
      "452/452 [==============================] - 2s 5ms/step - loss: 670087708672.0000 - mae: 276113.6250 - val_loss: 895016960000.0000 - val_mae: 271177.4375\n",
      "Epoch 84/100\n",
      "452/452 [==============================] - 2s 5ms/step - loss: 823538221056.0000 - mae: 285551.5000 - val_loss: 363035983872.0000 - val_mae: 215805.6406\n",
      "Epoch 85/100\n",
      "452/452 [==============================] - 3s 6ms/step - loss: 708741562368.0000 - mae: 276256.9688 - val_loss: 360996208640.0000 - val_mae: 207830.0469\n",
      "Epoch 86/100\n",
      "452/452 [==============================] - 3s 6ms/step - loss: 780118392832.0000 - mae: 272915.7812 - val_loss: 368962666496.0000 - val_mae: 209807.6719\n",
      "Epoch 87/100\n",
      "452/452 [==============================] - 2s 5ms/step - loss: 635877195776.0000 - mae: 263944.2500 - val_loss: 378124337152.0000 - val_mae: 215282.4844\n",
      "Epoch 88/100\n",
      "452/452 [==============================] - 3s 6ms/step - loss: 746426007552.0000 - mae: 276511.1562 - val_loss: 414658625536.0000 - val_mae: 218638.4844\n",
      "Epoch 89/100\n",
      "452/452 [==============================] - 2s 5ms/step - loss: 743127711744.0000 - mae: 276216.4062 - val_loss: 448690782208.0000 - val_mae: 218472.2969\n",
      "Epoch 90/100\n",
      "452/452 [==============================] - 2s 5ms/step - loss: 744496037888.0000 - mae: 269586.5625 - val_loss: 346966753280.0000 - val_mae: 202176.2969\n",
      "Epoch 91/100\n",
      "452/452 [==============================] - 2s 5ms/step - loss: 681999400960.0000 - mae: 275135.5625 - val_loss: 477368811520.0000 - val_mae: 235757.4531\n",
      "Epoch 92/100\n",
      "452/452 [==============================] - 2s 5ms/step - loss: 746704273408.0000 - mae: 286689.5938 - val_loss: 387570237440.0000 - val_mae: 219918.8906\n",
      "Epoch 93/100\n",
      "452/452 [==============================] - 2s 5ms/step - loss: 732894920704.0000 - mae: 274743.6250 - val_loss: 446923276288.0000 - val_mae: 219091.8750\n",
      "Epoch 94/100\n",
      "452/452 [==============================] - 2s 5ms/step - loss: 772697620480.0000 - mae: 284555.6250 - val_loss: 360246771712.0000 - val_mae: 206617.8594\n",
      "Epoch 95/100\n",
      "452/452 [==============================] - 2s 5ms/step - loss: 848325836800.0000 - mae: 276451.0625 - val_loss: 381408673792.0000 - val_mae: 216791.7500\n",
      "Epoch 96/100\n",
      "452/452 [==============================] - 2s 5ms/step - loss: 679802175488.0000 - mae: 273301.4062 - val_loss: 362305617920.0000 - val_mae: 207370.5000\n",
      "Epoch 97/100\n",
      "452/452 [==============================] - 2s 5ms/step - loss: 653942456320.0000 - mae: 271682.8438 - val_loss: 388763516928.0000 - val_mae: 206599.5938\n",
      "Epoch 98/100\n",
      "452/452 [==============================] - 2s 5ms/step - loss: 597625274368.0000 - mae: 262341.4062 - val_loss: 351517900800.0000 - val_mae: 205970.0781\n",
      "Epoch 99/100\n",
      "452/452 [==============================] - 2s 5ms/step - loss: 740361699328.0000 - mae: 273483.5625 - val_loss: 376951177216.0000 - val_mae: 214975.7031\n",
      "Epoch 100/100\n",
      "452/452 [==============================] - 2s 5ms/step - loss: 550800785408.0000 - mae: 257900.1719 - val_loss: 752397910016.0000 - val_mae: 291964.5312\n"
     ]
    }
   ],
   "source": [
    "history = model.fit(X_train_scaled, y_train, epochs=100, batch_size=32, validation_data=(X_test_scaled, y_test))"
   ]
  },
  {
   "cell_type": "code",
   "execution_count": 11,
   "metadata": {},
   "outputs": [
    {
     "name": "stdout",
     "output_type": "stream",
     "text": [
      "113/113 [==============================] - 0s 2ms/step - loss: 752397910016.0000 - mae: 291964.5312\n",
      "Loss: 752397910016.0, MAE: 291964.53125\n"
     ]
    }
   ],
   "source": [
    "loss, mae = model.evaluate(X_test_scaled, y_test)\n",
    "print(f'Loss: {loss}, MAE: {mae}')"
   ]
  },
  {
   "cell_type": "code",
   "execution_count": 12,
   "metadata": {},
   "outputs": [
    {
     "name": "stdout",
     "output_type": "stream",
     "text": [
      "113/113 [==============================] - 0s 2ms/step\n",
      "Predicción: [1284711.1], Valor real: 1300000.0\n",
      "Predicción: [345697.53], Valor real: 325000.0\n",
      "Predicción: [696262.3], Valor real: 750000.0\n",
      "Predicción: [1285515.5], Valor real: 1300000.0\n",
      "Predicción: [2143060.2], Valor real: 1800000.0\n",
      "Predicción: [413346.25], Valor real: 450000.0\n",
      "Predicción: [1433892.2], Valor real: 1300000.0\n",
      "Predicción: [10154018.], Valor real: 9500000.0\n",
      "Predicción: [4652822.5], Valor real: 4000000.0\n",
      "Predicción: [174107.42], Valor real: 210000.0\n"
     ]
    }
   ],
   "source": [
    "predictions = model.predict(X_test_scaled)\n",
    "\n",
    "ultimas_cinco_predicciones = predictions[-10:]\n",
    "valores_reales = y_test[-10:]\n",
    "\n",
    "for i in range(len(ultimas_cinco_predicciones)):\n",
    "    print(f\"Predicción: {ultimas_cinco_predicciones[i]}, Valor real: {valores_reales.iloc[i]}\")"
   ]
  },
  {
   "cell_type": "code",
   "execution_count": 13,
   "metadata": {},
   "outputs": [
    {
     "data": {
      "image/png": "[encoded data removed]",
      "text/plain": [
       "<Figure size 640x480 with 1 Axes>"
      ]
     },
     "metadata": {},
     "output_type": "display_data"
    }
   ],
   "source": [
    "loss = history.history['loss']\n",
    "val_loss = history.history['val_loss']\n",
    "\n",
    "epochs = range(1, len(loss) + 1)\n",
    "\n",
    "plt.plot(epochs, loss, 'bo', label='Training loss')\n",
    "plt.plot(epochs, val_loss, 'b', label='Validation loss')\n",
    "plt.title('Training and validation loss')\n",
    "plt.xlabel('Epochs')\n",
    "plt.ylabel('Loss')\n",
    "plt.legend()\n",
    "\n",
    "plt.show()\n"
   ]
  },
  {
   "cell_type": "code",
   "execution_count": 14,
   "metadata": {},
   "outputs": [
    {
     "name": "stdout",
     "output_type": "stream",
     "text": [
      "113/113 [==============================] - 0s 3ms/step - loss: 752397910016.0000 - mae: 291964.5312\n",
      "Loss on test set: 752397910016.0, MAE on test set: 291964.53125\n"
     ]
    }
   ],
   "source": [
    "eval_results = model.evaluate(X_test_scaled, y_test)\n",
    "print(f\"Loss on test set: {eval_results[0]}, MAE on test set: {eval_results[1]}\")"
   ]
  },
  {
   "cell_type": "code",
   "execution_count": null,
   "metadata": {},
   "outputs": [],
   "source": []
  },
  {
   "cell_type": "code",
   "execution_count": null,
   "metadata": {},
   "outputs": [],
   "source": []
  }
 ],
 "metadata": {
  "kernelspec": {
   "display_name": "Python 3",
   "language": "python",
   "name": "python3"
  },
  "language_info": {
   "codemirror_mode": {
    "name": "ipython",
    "version": 3
   },
   "file_extension": ".py",
   "mimetype": "text/x-python",
   "name": "python",
   "nbconvert_exporter": "python",
   "pygments_lexer": "ipython3",
   "version": "3.11.7"
  }
 },
 "nbformat": 4,
 "nbformat_minor": 2
}
